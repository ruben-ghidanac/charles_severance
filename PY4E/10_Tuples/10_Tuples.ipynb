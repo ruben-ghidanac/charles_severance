{
 "cells": [
  {
   "cell_type": "markdown",
   "metadata": {},
   "source": [
    "# 10: Tuples"
   ]
  },
  {
   "cell_type": "markdown",
   "metadata": {},
   "source": [
    "## 10.1: Tuples are Immutable"
   ]
  },
  {
   "cell_type": "markdown",
   "metadata": {},
   "source": [
    "A tuple<sup>1</sup> is a sequence of values much like a list. The values stored in a tuple can be any type, and they are indexed by integers. The important difference is that tuples are *immutable*. Tuples are also *comparable* and *hashable* so we can sort lists of them and use tuples as key values in Python dictionaries.\n",
    "\n",
    "Syntactically, a tuple is a comma-separated list of values:"
   ]
  },
  {
   "cell_type": "code",
   "execution_count": null,
   "metadata": {},
   "outputs": [],
   "source": [
    "t = 'a', 'b', 'c', 'd', 'e'"
   ]
  },
  {
   "cell_type": "markdown",
   "metadata": {},
   "source": [
    "Although it is not necessary, it is common to enclose tuples in parentheses to help us quickly identify tuples when we look at Python code:"
   ]
  },
  {
   "cell_type": "code",
   "execution_count": 1,
   "metadata": {},
   "outputs": [],
   "source": [
    "t = ('a', 'b', 'c', 'd', 'e')"
   ]
  },
  {
   "cell_type": "markdown",
   "metadata": {},
   "source": [
    "To create a tuple with a single element, you have to include the final comma:"
   ]
  },
  {
   "cell_type": "code",
   "execution_count": 2,
   "metadata": {},
   "outputs": [
    {
     "data": {
      "text/plain": [
       "tuple"
      ]
     },
     "execution_count": 2,
     "metadata": {},
     "output_type": "execute_result"
    }
   ],
   "source": [
    "t1 = ('a',)\n",
    "type(t1)"
   ]
  },
  {
   "cell_type": "markdown",
   "metadata": {},
   "source": [
    "Without the comma Python treats `('a')` as an expression with a string in parentheses that evaluates to a string:"
   ]
  },
  {
   "cell_type": "code",
   "execution_count": 3,
   "metadata": {},
   "outputs": [
    {
     "data": {
      "text/plain": [
       "str"
      ]
     },
     "execution_count": 3,
     "metadata": {},
     "output_type": "execute_result"
    }
   ],
   "source": [
    "t2 = ('a')\n",
    "type(t2)"
   ]
  },
  {
   "cell_type": "markdown",
   "metadata": {},
   "source": [
    "Another way to construct a tuple is the built-in function `tuple`. With no argument, it creates an empty tuple:"
   ]
  },
  {
   "cell_type": "code",
   "execution_count": 4,
   "metadata": {},
   "outputs": [
    {
     "name": "stdout",
     "output_type": "stream",
     "text": [
      "()\n"
     ]
    }
   ],
   "source": [
    "t = tuple()\n",
    "print(t)"
   ]
  },
  {
   "cell_type": "markdown",
   "metadata": {},
   "source": [
    "If the argument is a sequence (string, list, or tuple), the result of the call to tuple is a `tuple` with the elements of the sequence:"
   ]
  },
  {
   "cell_type": "code",
   "execution_count": 5,
   "metadata": {},
   "outputs": [
    {
     "name": "stdout",
     "output_type": "stream",
     "text": [
      "('l', 'u', 'p', 'i', 'n', 's')\n"
     ]
    }
   ],
   "source": [
    "t = tuple('lupins')\n",
    "print(t)"
   ]
  },
  {
   "cell_type": "markdown",
   "metadata": {},
   "source": [
    "Because `tuple` is the name of a constructor, you should avoid using it as a variable name.\n",
    "\n",
    "Most list operators also work on tuples. The bracket operator indexes an element:"
   ]
  },
  {
   "cell_type": "code",
   "execution_count": 6,
   "metadata": {},
   "outputs": [
    {
     "name": "stdout",
     "output_type": "stream",
     "text": [
      "a\n"
     ]
    }
   ],
   "source": [
    "t = ('a', 'b', 'c', 'd', 'e')\n",
    "print(t[0])"
   ]
  },
  {
   "cell_type": "markdown",
   "metadata": {},
   "source": [
    "And the slice operator selects a range of elements."
   ]
  },
  {
   "cell_type": "code",
   "execution_count": 7,
   "metadata": {},
   "outputs": [
    {
     "name": "stdout",
     "output_type": "stream",
     "text": [
      "('b', 'c')\n"
     ]
    }
   ],
   "source": [
    "print(t[1:3])"
   ]
  },
  {
   "cell_type": "markdown",
   "metadata": {},
   "source": [
    "But if you try to modify one of the elements of the tuple, you get an error:"
   ]
  },
  {
   "cell_type": "code",
   "execution_count": 8,
   "metadata": {},
   "outputs": [
    {
     "ename": "TypeError",
     "evalue": "'tuple' object does not support item assignment",
     "output_type": "error",
     "traceback": [
      "\u001b[1;31m---------------------------------------------------------------------------\u001b[0m",
      "\u001b[1;31mTypeError\u001b[0m                                 Traceback (most recent call last)",
      "Cell \u001b[1;32mIn[8], line 1\u001b[0m\n\u001b[1;32m----> 1\u001b[0m t[\u001b[38;5;241m0\u001b[39m] \u001b[38;5;241m=\u001b[39m \u001b[38;5;124m'\u001b[39m\u001b[38;5;124mA\u001b[39m\u001b[38;5;124m'\u001b[39m\n",
      "\u001b[1;31mTypeError\u001b[0m: 'tuple' object does not support item assignment"
     ]
    }
   ],
   "source": [
    "# t[0] = 'A'"
   ]
  },
  {
   "cell_type": "markdown",
   "metadata": {},
   "source": [
    "You can't modify the elements of a tuple, but you can replace one tuple with another:"
   ]
  },
  {
   "cell_type": "code",
   "execution_count": 9,
   "metadata": {},
   "outputs": [
    {
     "name": "stdout",
     "output_type": "stream",
     "text": [
      "('A', 'b', 'c', 'd', 'e')\n"
     ]
    }
   ],
   "source": [
    "t = ('A',) + t[1:]\n",
    "print(t)"
   ]
  },
  {
   "cell_type": "markdown",
   "metadata": {},
   "source": [
    "## 10.2: Comparing Tuples"
   ]
  },
  {
   "cell_type": "markdown",
   "metadata": {},
   "source": [
    "The comparison operators work with tuples and other sequences. Python starts by comparing the first element from each sequence. If they are equal, it goes on to the next element, and so on, until it finds elements that differ. Subsequent elements are not considered (even if they are really big)."
   ]
  },
  {
   "cell_type": "code",
   "execution_count": 1,
   "metadata": {},
   "outputs": [
    {
     "data": {
      "text/plain": [
       "True"
      ]
     },
     "execution_count": 1,
     "metadata": {},
     "output_type": "execute_result"
    }
   ],
   "source": [
    "(0, 1, 2) < (0, 3, 4)"
   ]
  },
  {
   "cell_type": "code",
   "execution_count": 2,
   "metadata": {},
   "outputs": [
    {
     "data": {
      "text/plain": [
       "True"
      ]
     },
     "execution_count": 2,
     "metadata": {},
     "output_type": "execute_result"
    }
   ],
   "source": [
    "(0, 1, 2000000) < (0, 3, 4)"
   ]
  },
  {
   "cell_type": "markdown",
   "metadata": {},
   "source": [
    "The `sort` function works the same way. It sorts primarily by first element, but in the case of a tie, it sorts by second element, and so on.\n",
    "\n",
    "This feature lends itself to a pattern called DSU for:\n",
    "\n",
    "- **Decorate**: a sequence by building a list of tuples with one or more sort keys preceding the elements from the sequence,\n",
    "- **Sort**: the list of tuples using the Python built-in `sort`, and\n",
    "- **Undecorate**: by extracting the sorted elements of the sequence.\n",
    "\n",
    "For example, suppose you have a list of words and you want to sort them from longest to shortest:"
   ]
  },
  {
   "cell_type": "code",
   "execution_count": 7,
   "metadata": {},
   "outputs": [
    {
     "name": "stdout",
     "output_type": "stream",
     "text": [
      "[(6, 'yonder'), (6, 'window'), (6, 'breaks'), (5, 'light'), (4, 'what'), (4, 'soft'), (3, 'but'), (2, 'in')]\n",
      "['yonder', 'window', 'breaks', 'light', 'what', 'soft', 'but', 'in']\n"
     ]
    }
   ],
   "source": [
    "txt = 'but soft what light in yonder window breaks'\n",
    "words = txt.split()\n",
    "t = list()\n",
    "for word in words:\n",
    "    t.append((len(word), word))\n",
    "\n",
    "t.sort(reverse=True)\n",
    "print(t)\n",
    "\n",
    "res = list()\n",
    "for length, word in t:\n",
    "    res.append(word)\n",
    "\n",
    "print(res)\n",
    "\n",
    "# Code: http://www.py4e.com/code3/soft.py"
   ]
  },
  {
   "cell_type": "markdown",
   "metadata": {},
   "source": [
    "The first loop builds a list of tuples, where each tuple is a word preceded by its length.\n",
    "\n",
    "`sort` compares the first element, length, first, and only considers the second element to break ties. The keyword argument `reverse=True` tells `sort` to go in decreasing order.\n",
    "\n",
    "The second loop traverses the list of tuples and builds a list of words in descending order of length. The four-character words are sorted in *reverse* alphabetical order, so \"what\" appears before \"soft\" in the following list.\n",
    "\n",
    "Of course the line loses much of its poetic impact when turned into a Python list and sorted in descending word length order."
   ]
  },
  {
   "cell_type": "markdown",
   "metadata": {},
   "source": [
    "## 10.3: Tuple Assignment"
   ]
  },
  {
   "cell_type": "markdown",
   "metadata": {},
   "source": [
    "One of the unique syntactic features of the Python language is the ability to have a tuple on the left side of an assignment statement. This allows you to assign more than one variable at a time when the left side is a sequence.\n",
    "\n",
    "In this example we have a two-element list (which is a sequence) and assign the first and second elements of the sequence to the variables `x` and `y` in a single statement."
   ]
  },
  {
   "cell_type": "code",
   "execution_count": 8,
   "metadata": {},
   "outputs": [
    {
     "data": {
      "text/plain": [
       "'have'"
      ]
     },
     "execution_count": 8,
     "metadata": {},
     "output_type": "execute_result"
    }
   ],
   "source": [
    "m = [ 'have', 'fun' ]\n",
    "x, y = m\n",
    "x"
   ]
  },
  {
   "cell_type": "code",
   "execution_count": 9,
   "metadata": {},
   "outputs": [
    {
     "data": {
      "text/plain": [
       "'fun'"
      ]
     },
     "execution_count": 9,
     "metadata": {},
     "output_type": "execute_result"
    }
   ],
   "source": [
    "y"
   ]
  },
  {
   "cell_type": "markdown",
   "metadata": {},
   "source": [
    "It is not magic, Python roughly translates the tuple assignment syntax to be the following:"
   ]
  },
  {
   "cell_type": "code",
   "execution_count": 10,
   "metadata": {},
   "outputs": [
    {
     "data": {
      "text/plain": [
       "'have'"
      ]
     },
     "execution_count": 10,
     "metadata": {},
     "output_type": "execute_result"
    }
   ],
   "source": [
    "m = [ 'have', 'fun' ]\n",
    "x = m[0]\n",
    "y = m[1]\n",
    "\n",
    "x"
   ]
  },
  {
   "cell_type": "code",
   "execution_count": 11,
   "metadata": {},
   "outputs": [
    {
     "data": {
      "text/plain": [
       "'fun'"
      ]
     },
     "execution_count": 11,
     "metadata": {},
     "output_type": "execute_result"
    }
   ],
   "source": [
    "y"
   ]
  },
  {
   "cell_type": "markdown",
   "metadata": {},
   "source": [
    "Stylistically when we use a tuple on the left side of the assignment statement, we omit the parentheses, but the following is an equally valid syntax:"
   ]
  },
  {
   "cell_type": "code",
   "execution_count": 12,
   "metadata": {},
   "outputs": [
    {
     "data": {
      "text/plain": [
       "'have'"
      ]
     },
     "execution_count": 12,
     "metadata": {},
     "output_type": "execute_result"
    }
   ],
   "source": [
    "m = [ 'have', 'fun' ]\n",
    "(x, y) = m\n",
    "x"
   ]
  },
  {
   "cell_type": "code",
   "execution_count": 13,
   "metadata": {},
   "outputs": [
    {
     "data": {
      "text/plain": [
       "'fun'"
      ]
     },
     "execution_count": 13,
     "metadata": {},
     "output_type": "execute_result"
    }
   ],
   "source": [
    "y"
   ]
  },
  {
   "cell_type": "markdown",
   "metadata": {},
   "source": [
    "A particularly clever application of tuple assignment allows us to *swap* the values of two variables in a single statement:"
   ]
  },
  {
   "cell_type": "code",
   "execution_count": 15,
   "metadata": {},
   "outputs": [],
   "source": [
    "a = tuple()\n",
    "b = tuple()\n",
    "a, b = b, a"
   ]
  },
  {
   "cell_type": "markdown",
   "metadata": {},
   "source": [
    "Both sides of this statement are tuples, but the left side is a tuple of variables; the right side is a tuple of expressions. Each value on the right side is assigned to its respective variable on the left side. All the expressions on the right side are evaluated before any of the assignments.\n",
    "\n",
    "The number of variables on the left and the number of values on the right must be the same:"
   ]
  },
  {
   "cell_type": "code",
   "execution_count": 16,
   "metadata": {},
   "outputs": [],
   "source": [
    "# a, b = 1, 2, 3\n",
    "# ValueError: too many values to unpack"
   ]
  },
  {
   "cell_type": "markdown",
   "metadata": {},
   "source": [
    "More generally, the right side can be any kind of sequence (string, list, or tuple). For example, to split an email address into a user name and a domain, you could write:"
   ]
  },
  {
   "cell_type": "code",
   "execution_count": 17,
   "metadata": {},
   "outputs": [],
   "source": [
    "addr = 'monty@python.org'\n",
    "uname, domain = addr.split('@')"
   ]
  },
  {
   "cell_type": "markdown",
   "metadata": {},
   "source": [
    "The return value from `split` is a list with two elements; the first element is assigned to `uname`, the second to `domain`."
   ]
  },
  {
   "cell_type": "code",
   "execution_count": 18,
   "metadata": {},
   "outputs": [
    {
     "name": "stdout",
     "output_type": "stream",
     "text": [
      "monty\n",
      "python.org\n"
     ]
    }
   ],
   "source": [
    "print(uname)\n",
    "print(domain)"
   ]
  },
  {
   "cell_type": "markdown",
   "metadata": {},
   "source": [
    "## 10.4: Dictionaries and Tuples"
   ]
  },
  {
   "cell_type": "markdown",
   "metadata": {},
   "source": [
    "Dictionaries have a method called `items` that returns a list of tuples, where each tuple is a key-value pair:"
   ]
  },
  {
   "cell_type": "code",
   "execution_count": 36,
   "metadata": {},
   "outputs": [
    {
     "name": "stdout",
     "output_type": "stream",
     "text": [
      "[('c', 10), ('a', 1), ('b', 22)]\n"
     ]
    }
   ],
   "source": [
    "d = {'c':10, 'a':1, 'b':22}\n",
    "t = list(d.items())\n",
    "print(t)"
   ]
  },
  {
   "cell_type": "markdown",
   "metadata": {},
   "source": [
    "As you should expect from a dictionary, the items are in no particular order.\n",
    "\n",
    "However, since the list of tuples is a list, and tuples are comparable, we can now sort the list of tuples. Converting a dictionary to a list of tuples is a way for us to output the contents of a dictionary sorted by key:"
   ]
  },
  {
   "cell_type": "code",
   "execution_count": 35,
   "metadata": {},
   "outputs": [
    {
     "data": {
      "text/plain": [
       "[('c', 10), ('a', 1), ('b', 22)]"
      ]
     },
     "execution_count": 35,
     "metadata": {},
     "output_type": "execute_result"
    }
   ],
   "source": [
    "d = {'c':10, 'a':1, 'b':22}\n",
    "t = list(d.items())\n",
    "t"
   ]
  },
  {
   "cell_type": "code",
   "execution_count": 37,
   "metadata": {},
   "outputs": [
    {
     "data": {
      "text/plain": [
       "[('a', 1), ('b', 22), ('c', 10)]"
      ]
     },
     "execution_count": 37,
     "metadata": {},
     "output_type": "execute_result"
    }
   ],
   "source": [
    "t.sort()\n",
    "t"
   ]
  },
  {
   "cell_type": "markdown",
   "metadata": {},
   "source": [
    "The new list is sorted in ascending alphabetical order by the key value."
   ]
  },
  {
   "cell_type": "markdown",
   "metadata": {},
   "source": [
    "## 10.5: Multiple assignment with dictionaries"
   ]
  },
  {
   "cell_type": "markdown",
   "metadata": {},
   "source": [
    "Combining `items`, tuple assignment, and `for`, you can see a nice code pattern for traversing the keys and values of a dictionary in a single loop:"
   ]
  },
  {
   "cell_type": "code",
   "execution_count": 38,
   "metadata": {},
   "outputs": [
    {
     "name": "stdout",
     "output_type": "stream",
     "text": [
      "10 a\n",
      "1 b\n",
      "22 c\n"
     ]
    }
   ],
   "source": [
    "d = {'a':10, 'b':1, 'c':22}\n",
    "\n",
    "for key, val in list(d.items()):\n",
    "    print(val, key)"
   ]
  },
  {
   "cell_type": "markdown",
   "metadata": {},
   "source": [
    "This loop has two *iteration variables* because `items` returns a list of tuples and `key`, `val` is a tuple assignment that successively iterates through each of the key-value pairs in the dictionary.\n",
    "\n",
    "For each iteration through the loop, both `key` and `value` are advanced to the next key-value pair in the dictionary (still in hash order).\n",
    "\n",
    "Again, it is in hash key order (i.e., no particular order).\n",
    "\n",
    "If we combine these two techniques, we can print out the contents of a dictionary sorted by the *value* stored in each key-value pair.\n",
    "\n",
    "To do this, we first make a list of tuples where each tuple is (`value`, `key`). The `items` method would give us a list of (`key`, `value`) tuples, but this time we want to sort by value, not key. Once we have constructed the list with the value-key tuples, it is a simple matter to sort the list in reverse order and print out the new, sorted list."
   ]
  },
  {
   "cell_type": "code",
   "execution_count": 40,
   "metadata": {},
   "outputs": [
    {
     "data": {
      "text/plain": [
       "[(10, 'a'), (1, 'b'), (22, 'c')]"
      ]
     },
     "execution_count": 40,
     "metadata": {},
     "output_type": "execute_result"
    }
   ],
   "source": [
    "d = {'a':10, 'b':1, 'c':22}\n",
    "l = list()\n",
    "for key, val in d.items() :\n",
    "    l.append( (val, key) )\n",
    "\n",
    "l"
   ]
  },
  {
   "cell_type": "code",
   "execution_count": 41,
   "metadata": {},
   "outputs": [
    {
     "data": {
      "text/plain": [
       "[(22, 'c'), (10, 'a'), (1, 'b')]"
      ]
     },
     "execution_count": 41,
     "metadata": {},
     "output_type": "execute_result"
    }
   ],
   "source": [
    "l.sort(reverse=True)\n",
    "\n",
    "l"
   ]
  },
  {
   "cell_type": "markdown",
   "metadata": {},
   "source": [
    "By carefully constructing the list of tuples to have the value as the first element of each tuple, we can sort the list of tuples and get our dictionary contents sorted by value."
   ]
  },
  {
   "cell_type": "markdown",
   "metadata": {},
   "source": [
    "## 10.6: The most common words"
   ]
  },
  {
   "cell_type": "markdown",
   "metadata": {},
   "source": [
    "Coming back to our running example of the text from *Romeo and Juliet* Act 2, Scene 2, we can augment our program to use this technique to print the ten most common words in the text as follows:"
   ]
  },
  {
   "cell_type": "code",
   "execution_count": 42,
   "metadata": {},
   "outputs": [
    {
     "name": "stdout",
     "output_type": "stream",
     "text": [
      "61 i\n",
      "41 and\n",
      "38 romeo\n",
      "34 to\n",
      "34 the\n",
      "32 thou\n",
      "31 juliet\n",
      "30 that\n",
      "29 my\n",
      "24 a\n"
     ]
    }
   ],
   "source": [
    "import string\n",
    "fhand = open('romeo-full.txt')\n",
    "counts = dict()\n",
    "for line in fhand:\n",
    "    line = line.translate(str.maketrans('', '', string.punctuation))\n",
    "    line = line.lower()\n",
    "    words = line.split()\n",
    "    for word in words:\n",
    "        if word not in counts:\n",
    "            counts[word] = 1\n",
    "        else:\n",
    "            counts[word] += 1\n",
    "\n",
    "# Sort the dictionary by value\n",
    "lst = list()\n",
    "for key, val in list(counts.items()):\n",
    "    lst.append((val, key))\n",
    "\n",
    "lst.sort(reverse=True)\n",
    "\n",
    "for key, val in lst[:10]:\n",
    "    print(key, val)\n",
    "\n",
    "# Code: http://www.py4e.com/code3/count3.py"
   ]
  },
  {
   "cell_type": "markdown",
   "metadata": {},
   "source": [
    "The fact that this complex data parsing and analysis can be done with an easy-to-understand 19-line Python program is one reason why Python is a good choice as a language for exploring information."
   ]
  },
  {
   "cell_type": "markdown",
   "metadata": {},
   "source": [
    "## 10.7: Using Tuples as Keys in Dictionaries"
   ]
  },
  {
   "cell_type": "markdown",
   "metadata": {},
   "source": [
    "Because tuples are *hashable* and lists are not, if we want to create a *composite* key to use in a dictionary we must use a tuple as the key.\n",
    "\n",
    "We would encounter a composite key if we wanted to create a telephone directory that maps from last-name, first-name pairs to telephone numbers. Assuming that we have defined the variables `last`, `first`, and `number`, we could write a dictionary assignment statement as follows:"
   ]
  },
  {
   "cell_type": "code",
   "execution_count": 50,
   "metadata": {},
   "outputs": [
    {
     "data": {
      "text/plain": [
       "{(('Popescu', 'Iliescu', 'Popa'), ('Andrei', 'Ionut', 'George')): (1234567890,\n",
       "  987654321,\n",
       "  123456789)}"
      ]
     },
     "execution_count": 50,
     "metadata": {},
     "output_type": "execute_result"
    }
   ],
   "source": [
    "last = ('Popescu', 'Iliescu', 'Popa')\n",
    "first = ('Andrei', 'Ionut', 'George')\n",
    "number = (1234567890, 987654321, 123456789)\n",
    "\n",
    "directory = dict()\n",
    "\n",
    "directory[last,first] = number\n",
    "\n",
    "directory"
   ]
  },
  {
   "cell_type": "code",
   "execution_count": 48,
   "metadata": {},
   "outputs": [
    {
     "name": "stdout",
     "output_type": "stream",
     "text": [
      "('Andrei', 'Ionut', 'George') ('Popescu', 'Iliescu', 'Popa') (1234567890, 987654321, 123456789)\n"
     ]
    }
   ],
   "source": [
    "for last, first in directory:\n",
    "    print(first, last, directory[last,first])"
   ]
  },
  {
   "cell_type": "markdown",
   "metadata": {},
   "source": [
    "This loop traverses the keys in `directory`, which are tuples. It assigns the elements of each tuple to `last` and `first`, then prints the name and corresponding telephone number."
   ]
  },
  {
   "cell_type": "markdown",
   "metadata": {},
   "source": [
    "## 10.8: Sequences- strings, lists, and tuples - Oh My!"
   ]
  },
  {
   "cell_type": "markdown",
   "metadata": {},
   "source": [
    "I have focused on lists of tuples, but almost all of the examples in this chapter also work with lists of lists, tuples of tuples, and tuples of lists. To avoid enumerating the possible combinations, it is sometimes easier to talk about sequences of sequences.\n",
    "\n",
    "In many contexts, the different kinds of sequences (strings, lists, and tuples) can be used interchangeably. So how and why do you choose one over the others?\n",
    "\n",
    "To start with the obvious, strings are more limited than other sequences because the elements have to be characters. They are also immutable. If you need the ability to change the characters in a string (as opposed to creating a new string), you might want to use a list of characters instead.\n",
    "\n",
    "Lists are more common than tuples, mostly because they are mutable. But there are a few cases where you might prefer tuples:\n",
    "\n",
    "1. In some contexts, like a `return` statement, it is syntactically simpler to create a tuple than a list. In other contexts, you might prefer a list.\n",
    "2. If you want to use a sequence as a dictionary key, you have to use an immutable type like a tuple or string.\n",
    "3. If you are passing a sequence as an argument to a function, using tuples reduces the potential for unexpected behavior due to aliasing.\n",
    "\n",
    "Because tuples are immutable, they don't provide methods like `sort` and `reverse`, which modify existing lists. However Python provides the built-in functions `sorted` and `reversed`, which take any sequence as a parameter and return a new sequence with the same elements in a different order."
   ]
  },
  {
   "cell_type": "markdown",
   "metadata": {},
   "source": [
    "## 10.9: Debugging"
   ]
  },
  {
   "cell_type": "markdown",
   "metadata": {},
   "source": [
    "Lists, dictionaries and tuples are known generically as *data structures*; in this chapter we are starting to see compound data structures, like lists of tuples, and dictionaries that contain tuples as keys and lists as values. Compound data structures are useful, but they are prone to what I call *shape errors*; that is, errors caused when a data structure has the wrong type, size, or composition, or perhaps you write some code and forget the shape of your data and introduce an error.\n",
    "\n",
    "For example, if you are expecting a list with one integer and I give you a plain old integer (not in a list), it won't work.\n",
    "\n",
    "When you are debugging a program, and especially if you are working on a hard bug, there are four things to try:\n",
    "\n",
    "- **reading**: Examine your code, read it back to yourself, and check that it says what you meant to say.\n",
    "- **running**: Experiment by making changes and running different versions. Often if you display the right thing at the right place in the program, the problem becomes obvious, but sometimes you have to spend some time to build scaffolding.\n",
    "- **ruminating**: Take some time to think! What kind of error is it: syntax, runtime, semantic? What information can you get from the error messages, or from the output of the program? What kind of error could cause the problem you're seeing? What did you change last, before the problem appeared?\n",
    "- **retreating**: At some point, the best thing to do is back off, undoing recent changes, until you get back to a program that works and that you understand. Then you can start rebuilding.\n",
    "\n",
    "Beginning programmers sometimes get stuck on one of these activities and forget the others. Each activity comes with its own failure mode.\n",
    "\n",
    "For example, reading your code might help if the problem is a typographical error, but not if the problem is a conceptual misunderstanding. If you don't understand what your program does, you can read it 100 times and never see the error, because the error is in your head.\n",
    "\n",
    "Running experiments can help, especially if you run small, simple tests. But if you run experiments without thinking or reading your code, you might fall into a pattern I call \"random walk programming\", which is the process of making random changes until the program does the right thing. Needless to say, random walk programming can take a long time.\n",
    "\n",
    "You have to take time to think. Debugging is like an experimental science. You should have at least one hypothesis about what the problem is. If there are two or more possibilities, try to think of a test that would eliminate one of them.\n",
    "\n",
    "Taking a break helps with the thinking. So does talking. If you explain the problem to someone else (or even to yourself), you will sometimes find the answer before you finish asking the question.\n",
    "\n",
    "But even the best debugging techniques will fail if there are too many errors, or if the code you are trying to fix is too big and complicated. Sometimes the best option is to retreat, simplifying the program until you get to something that works and that you understand.\n",
    "\n",
    "Beginning programmers are often reluctant to retreat because they can't stand to delete a line of code (even if it's wrong). If it makes you feel better, copy your program into another file before you start stripping it down. Then you can paste the pieces back in a little bit at a time.\n",
    "\n",
    "Finding a hard bug requires reading, running, ruminating, and sometimes retreating. If you get stuck on one of these activities, try the others."
   ]
  },
  {
   "cell_type": "markdown",
   "metadata": {},
   "source": [
    "## 10.E: Tuples (Exercises)"
   ]
  },
  {
   "cell_type": "markdown",
   "metadata": {},
   "source": [
    "### Exercise 1"
   ]
  },
  {
   "cell_type": "markdown",
   "metadata": {},
   "source": [
    "Revise a previous program as follows: \n",
    "- Read and parse the \"From\" lines and pull out the addresses from the line.\n",
    "- Count the number of messages from each person using a dictionary.\n",
    "\n",
    "- After all the data has been read, print the person with the most commits by creating a list of (count, email) tuples from the dictionary. \n",
    "- Then sort the list in reverse order and print out the person who has the most commits."
   ]
  },
  {
   "cell_type": "code",
   "execution_count": 87,
   "metadata": {},
   "outputs": [
    {
     "name": "stdout",
     "output_type": "stream",
     "text": [
      "Enter the file name:  mbox-short.txt\n",
      "cwen@iupui.edu 5\n"
     ]
    }
   ],
   "source": [
    "''' \n",
    "Sample Line:\n",
    "From stephen.marquard@uct.ac.za Sat Jan  5 09:14:16 2008\n",
    "\n",
    "Enter a file name: mbox-short.txt\n",
    "cwen@iupui.edu 5\n",
    "\n",
    "Enter a file name: mbox.txt\n",
    "zqian@umich.edu 195\n",
    "'''\n",
    "\n",
    "# Write your code below this line\n",
    "fname = input('Enter the file name: ')\n",
    "try:\n",
    "    fhand = open(fname)\n",
    "except:\n",
    "    print('File cannot be opened:', fname)\n",
    "    exit()\n",
    "\n",
    "mails = dict()\n",
    "for line in fhand:\n",
    "    if line.startswith(\"From \"):  # Note the space after \"From\"\n",
    "        words = line.split()\n",
    "        if len(words) > 2:  # Ensure there are at least 3 words\n",
    "            mail = words[1]\n",
    "            if mail not in mails:\n",
    "                mails[mail] = 1\n",
    "            else:\n",
    "                mails[mail] += 1\n",
    "\n",
    "print('Enter the file name: ', fname)\n",
    "\n",
    "l = list()\n",
    "for email, count in mails.items() :\n",
    "    l.append( (count, email) )\n",
    "\n",
    "l.sort(reverse=True)\n",
    "\n",
    "person_most_commits = l[:1]\n",
    "print(person_most_commits[0][1], person_most_commits[0][0])\n"
   ]
  },
  {
   "cell_type": "markdown",
   "metadata": {},
   "source": [
    "### Exercise 2"
   ]
  },
  {
   "cell_type": "markdown",
   "metadata": {},
   "source": [
    "This program counts the distribution of the hour of the day for each of the messages. \n",
    "- You can pull the hour from the \"From\" line by finding the time string and then splitting that string into parts using the colon character. \n",
    "- Once you have accumulated the counts for each hour, print out the counts, one per line, sorted by hour as shown below."
   ]
  },
  {
   "cell_type": "code",
   "execution_count": 66,
   "metadata": {},
   "outputs": [
    {
     "name": "stdout",
     "output_type": "stream",
     "text": [
      "Enter a file name:  mbox-short.txt\n",
      "04 3\n",
      "06 1\n",
      "07 1\n",
      "09 2\n",
      "10 3\n",
      "11 6\n",
      "14 1\n",
      "15 2\n",
      "16 4\n",
      "17 2\n",
      "18 1\n",
      "19 1\n"
     ]
    }
   ],
   "source": [
    "''' \n",
    "python timeofday.py\n",
    "Enter a file name: mbox-short.txt\n",
    "04 3\n",
    "06 1\n",
    "07 1\n",
    "09 2\n",
    "10 3\n",
    "11 6\n",
    "14 1\n",
    "15 2\n",
    "16 4\n",
    "17 2\n",
    "18 1\n",
    "19 1\n",
    "'''\n",
    "\n",
    "# Write your code below this line\n",
    "fname = input('Enter the file name: ')\n",
    "try:\n",
    "    fhand = open(fname)\n",
    "except:\n",
    "    print('File cannot be opened:', fname)\n",
    "    exit()\n",
    "\n",
    "hours = dict()\n",
    "for line in fhand:\n",
    "    if line.startswith(\"From \"):  # Note the space after \"From\"\n",
    "        words = line.split()\n",
    "        if len(words) > 2:  # Ensure there are at least 3 words\n",
    "            hour = words[5]\n",
    "            hour = hour.split(':')[0]\n",
    "            if hour not in hours:\n",
    "                hours[hour] = 1\n",
    "            else:\n",
    "                hours[hour] += 1\n",
    "\n",
    "print('Enter a file name: ', fname)\n",
    "lst = list(hours.keys())\n",
    "lst.sort()\n",
    "for key in lst:\n",
    "    print(key, hours[key])"
   ]
  },
  {
   "cell_type": "markdown",
   "metadata": {},
   "source": [
    "### Exercise 3"
   ]
  },
  {
   "cell_type": "markdown",
   "metadata": {},
   "source": [
    "Write a program that reads a file and prints the *letters* in decreasing order of frequency. \n",
    "- Your program should convert all the input to lower case and only count the letters a-z. \n",
    "- Your program should not count spaces, digits, punctuation, or anything other than the letters a-z. \n",
    "- Find text samples from several different languages and see how letter frequency varies between languages. \n",
    "- Compare your results with the tables at http://Wikipedia.org/wiki/Letter_frequencies."
   ]
  },
  {
   "cell_type": "code",
   "execution_count": 84,
   "metadata": {},
   "outputs": [
    {
     "name": "stdout",
     "output_type": "stream",
     "text": [
      "Enter a file name:  text-samples.txt\n",
      "e 51\n",
      "t 39\n",
      "r 34\n",
      "a 30\n",
      "n 25\n",
      "o 24\n",
      "s 23\n",
      "i 20\n",
      "l 18\n",
      "u 16\n",
      "h 13\n",
      "d 12\n",
      "c 11\n",
      "g 11\n",
      "p 10\n",
      "f 9\n",
      "w 7\n",
      "y 7\n",
      "m 6\n",
      "q 3\n",
      "v 3\n",
      "z 2\n",
      "b 2\n",
      "k 2\n",
      "x 1\n"
     ]
    }
   ],
   "source": [
    "# Write your code below this line\n",
    "# Read the file and count letters\n",
    "fname = input('Enter the file name: ')\n",
    "try:\n",
    "    fhand = open(fname)\n",
    "except:\n",
    "    print('File cannot be opened:', fname)\n",
    "    exit()\n",
    "\n",
    "letters = dict()\n",
    "for line in fhand:\n",
    "    # lowercase all letters\n",
    "    line = line.lower()\n",
    "    # delete new line\n",
    "    line = line.rstrip()\n",
    "    # delete white space\n",
    "    line = line.translate(line.maketrans('', '', ' '))\n",
    "    # delete numbers\n",
    "    line = line.translate(line.maketrans('', '', string.digits))\n",
    "    # delete punctuation\n",
    "    line = line.translate(line.maketrans('', '', string.punctuation))\n",
    "    # count letters frequency\n",
    "    for letter in line:\n",
    "        if letter not in letters:\n",
    "            letters[letter] = 1\n",
    "        else:\n",
    "            letters[letter] += 1\n",
    "\n",
    "\n",
    "print('Enter a file name: ', fname)\n",
    "lst = list(letters.items())\n",
    "\n",
    "# Sort the list based on the count of letters\n",
    "for i in range(len(lst)):\n",
    "    for j in range(i + 1, len(lst)):\n",
    "        if lst[i][1] < lst[j][1]:\n",
    "            lst[i], lst[j] = lst[j], lst[i]\n",
    "\n",
    "# Print the sorted list\n",
    "for key, val in lst:\n",
    "    print(key, val)"
   ]
  },
  {
   "cell_type": "markdown",
   "metadata": {},
   "source": [
    "**Relative frequency in the English language**\n",
    "\n",
    "(https://en.wikipedia.org/wiki/Letter_frequency)\n",
    "\n",
    "E -\t12.7%\t\n",
    " \n",
    "T -\t9.1%\t\n",
    " \n",
    "A -\t8.2%\t\n",
    " \n",
    "O -\t7.5%\t\n",
    " \n",
    "I -\t7.0%\t\n",
    " \n",
    "N -\t6.7%\t\n",
    " \n",
    "S -\t6.3%\t\n",
    " \n",
    "H -\t6.1%\t\n",
    " \n",
    "R -\t6.0%\t\n",
    " \n",
    "D -\t4.3%\t\n",
    " \n",
    "L -\t4.0%\t\n"
   ]
  },
  {
   "cell_type": "markdown",
   "metadata": {},
   "source": [
    "## 10.G: Tuples (Glossary)"
   ]
  },
  {
   "cell_type": "markdown",
   "metadata": {},
   "source": [
    "- **comparable**:\n",
    "A type where one value can be checked to see if it is greater than, less than, or equal to another value of the same type. Types which are comparable can be put in a list and sorted.\n",
    "- **data structure**:\n",
    "A collection of related values, often organized in lists, dictionaries, tuples, etc.\n",
    "- **DSU**:\n",
    "Abbreviation of \"decorate-sort-undecorate\", a pattern that involves building a list of tuples, sorting, and extracting part of the result.\n",
    "- **gather**:\n",
    "The operation of assembling a variable-length argument tuple.\n",
    "- **hashable**:\n",
    "A type that has a hash function. Immutable types like integers, floats, and strings are hashable; mutable types like lists and dictionaries are not.\n",
    "- **scatter**:\n",
    "The operation of treating a sequence as a list of arguments.\n",
    "- **shape (of a data structure)**:\n",
    "A summary of the type, size, and composition of a data structure.\n",
    "- **singleton**:\n",
    "A list (or other sequence) with a single element.\n",
    "- **tuple**:\n",
    "An immutable sequence of elements.\n",
    "- **tuple assignment**:\n",
    "An assignment with a sequence on the right side and a tuple of variables on the left. The right side is evaluated and then its elements are assigned to the variables on the left."
   ]
  }
 ],
 "metadata": {
  "kernelspec": {
   "display_name": "base",
   "language": "python",
   "name": "python3"
  },
  "language_info": {
   "codemirror_mode": {
    "name": "ipython",
    "version": 3
   },
   "file_extension": ".py",
   "mimetype": "text/x-python",
   "name": "python",
   "nbconvert_exporter": "python",
   "pygments_lexer": "ipython3",
   "version": "3.9.18"
  }
 },
 "nbformat": 4,
 "nbformat_minor": 2
}
