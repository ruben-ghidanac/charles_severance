{
 "cells": [
  {
   "cell_type": "markdown",
   "metadata": {},
   "source": [
    "# 13: Python and Web Services"
   ]
  },
  {
   "cell_type": "markdown",
   "metadata": {},
   "source": [
    "Once it became easy to retrieve documents and parse documents over HTTP using programs, it did not take long to develop an approach where we started producing documents that were specifically designed to be consumed by other programs (i.e., not HTML to be displayed in a browser). There are two common formats that we use when exchanging data across the web. The \"eXtensible Markup Language\" or XML has been in use for a very long time and is best suited for exchanging document-style data. When programs just want to exchange dictionaries, lists, or other internal information with each other, they use JavaScript Object Notation or JSON (see www.json.org). We will look at both formats."
   ]
  },
  {
   "cell_type": "markdown",
   "metadata": {},
   "source": [
    "## 13.1: eXtensible Markup Language - XML"
   ]
  },
  {
   "cell_type": "markdown",
   "metadata": {},
   "source": [
    "XML looks very similar to HTML, but XML is more structured than HTML. Here is a sample of an XML document:\n",
    "\n",
    "```xml\n",
    "<person>\n",
    "  <name>Chuck</name>\n",
    "  <phone type=\"intl\">\n",
    "     +1 734 303 4456\n",
    "   </phone>\n",
    "   <email hide=\"yes\"/>\n",
    "</person>\n",
    "```"
   ]
  },
  {
   "cell_type": "markdown",
   "metadata": {},
   "source": [
    "Often it is helpful to think of an XML document as a tree structure where there is a top tag `person` and other tags such as `phone` are drawn as children of their parent nodes."
   ]
  },
  {
   "cell_type": "markdown",
   "metadata": {},
   "source": [
    "![Alt text](./xml-tree.jpg)"
   ]
  },
  {
   "cell_type": "markdown",
   "metadata": {},
   "source": [
    "### Parsing XML"
   ]
  },
  {
   "cell_type": "markdown",
   "metadata": {},
   "source": [
    "Here is a simple application that parses some XML and extracts some data elements from the XML:"
   ]
  },
  {
   "cell_type": "code",
   "execution_count": 1,
   "metadata": {},
   "outputs": [
    {
     "name": "stdout",
     "output_type": "stream",
     "text": [
      "Name: Chuck\n",
      "Attr: yes\n"
     ]
    }
   ],
   "source": [
    "import xml.etree.ElementTree as ET\n",
    "\n",
    "data = '''\n",
    "<person>\n",
    "  <name>Chuck</name>\n",
    "  <phone type=\\\"intl\\\">\n",
    "     +1 734 303 4456\n",
    "   </phone>\n",
    "   <email hide=\\\"yes\\\"/>\n",
    "</person>'''\n",
    "\n",
    "tree = ET.fromstring(data)\n",
    "print('Name:', tree.find('name').text)\n",
    "print('Attr:', tree.find('email').get('hide'))\n",
    "\n",
    "# Code: http://www.py4e.com/code3/xml1.py"
   ]
  },
  {
   "cell_type": "markdown",
   "metadata": {},
   "source": [
    "Calling `fromstring` converts the string representation of the XML into a \"tree\" of XML nodes. When the XML is in a tree, we have a series of methods we can call to extract portions of data from the XML.\n",
    "\n",
    "The `find` function searches through the XML tree and retrieves a node that matches the specified tag. Each node can have some text, some attributes (like hide), and some \"child\" nodes. Each node can be the top of a tree of nodes.\n",
    "\n",
    "Using an XML parser such as `ElementTree` has the advantage that while the XML in this example is quite simple, it turns out there are many rules regarding valid XML and using `ElementTree` allows us to extract data from XML without worrying about the rules of XML syntax."
   ]
  },
  {
   "cell_type": "markdown",
   "metadata": {},
   "source": [
    "## 13.2: Looping through Nodes"
   ]
  },
  {
   "cell_type": "markdown",
   "metadata": {},
   "source": [
    "Often the XML has multiple nodes and we need to write a loop to process all of the nodes. In the following program, we loop through all of the `user` nodes:"
   ]
  },
  {
   "cell_type": "code",
   "execution_count": 5,
   "metadata": {},
   "outputs": [
    {
     "name": "stdout",
     "output_type": "stream",
     "text": [
      "User count: 2\n",
      "Name Chuck\n",
      "Id 001\n",
      "Attribute 2\n",
      "Name Brent\n",
      "Id 009\n",
      "Attribute 7\n"
     ]
    }
   ],
   "source": [
    "import xml.etree.ElementTree as ET\n",
    "\n",
    "input = '''\n",
    "<stuff>\n",
    "    <users>\n",
    "        <user x=\\\"2\\\">\n",
    "            <id>001</id>\n",
    "            <name>Chuck</name>\n",
    "        </user>\n",
    "        <user x=\\\"7\\\">\n",
    "            <id>009</id>\n",
    "            <name>Brent</name>\n",
    "        </user>\n",
    "    </users>\n",
    "</stuff>'''\n",
    "\n",
    "stuff = ET.fromstring(input)\n",
    "lst = stuff.findall('users/user')\n",
    "print('User count:', len(lst))\n",
    "\n",
    "for item in lst:\n",
    "    print('Name', item.find('name').text)\n",
    "    print('Id', item.find('id').text)\n",
    "    print('Attribute', item.get(\"x\"))\n",
    "\n",
    "# Code: http://www.py4e.com/code3/xml2.py"
   ]
  },
  {
   "cell_type": "markdown",
   "metadata": {},
   "source": [
    "The `findall` method retrieves a Python list of subtrees that represent the `user` structures in the XML tree. Then we can write a `for` loop that looks at each of the user nodes, and prints the `name` and `id` text elements as well as the `x` attribute from the `user` node."
   ]
  },
  {
   "cell_type": "markdown",
   "metadata": {},
   "source": [
    "## 13.3: JavaScript Object Notation - JSON"
   ]
  },
  {
   "cell_type": "markdown",
   "metadata": {},
   "source": [
    "The JSON format was inspired by the object and array format used in the JavaScript language. But since Python was invented before JavaScript, Python's syntax for dictionaries and lists influenced the syntax of JSON. So the format of JSON is nearly identical to a combination of Python lists and dictionaries.\n",
    "\n",
    "Here is a JSON encoding that is roughly equivalent to the simple XML from above:\n",
    "\n",
    "```json\n",
    "{\n",
    "  \"name\" : \"Chuck\",\n",
    "  \"phone\" : {\n",
    "    \"type\" : \"intl\",\n",
    "    \"number\" : \"+1 734 303 4456\"\n",
    "   },\n",
    "   \"email\" : {\n",
    "     \"hide\" : \"yes\"\n",
    "   }\n",
    "}\n",
    "```\n",
    "\n",
    "You will notice some differences. First, in XML, we can add attributes like \"intl\" to the \"phone\" tag. In JSON, we simply have key-value pairs. Also the XML \"person\" tag is gone, replaced by a set of outer curly braces.\n",
    "\n",
    "In general, JSON structures are simpler than XML because JSON has fewer capabilities than XML. But JSON has the advantage that it maps *directly* to some combination of dictionaries and lists. And since nearly all programming languages have something equivalent to Python's dictionaries and lists, JSON is a very natural format to have two cooperating programs exchange data.\n",
    "\n",
    "JSON is quickly becoming the format of choice for nearly all data exchange between applications because of its relative simplicity compared to XML."
   ]
  },
  {
   "cell_type": "markdown",
   "metadata": {},
   "source": [
    "## 13.4: Parsing JSON"
   ]
  },
  {
   "cell_type": "markdown",
   "metadata": {},
   "source": [
    "We construct our JSON by nesting dictionaries (objects) and lists as needed. In this example, we represent a list of users where each user is a set of key-value pairs (i.e., a dictionary). So we have a list of dictionaries.\n",
    "\n",
    "In the following program, we use the built-in json library to parse the JSON and read through the data. Compare this closely to the equivalent XML data and code above. The JSON has less detail, so we must know in advance that we are getting a list and that the list is of users and each user is a set of key-value pairs. The JSON is more succinct (an advantage) but also is less self-describing (a disadvantage)."
   ]
  },
  {
   "cell_type": "code",
   "execution_count": 7,
   "metadata": {},
   "outputs": [
    {
     "name": "stdout",
     "output_type": "stream",
     "text": [
      "User count: 2\n",
      "Name Chuck\n",
      "Id 001\n",
      "Attribute 2\n",
      "Name Brent\n",
      "Id 009\n",
      "Attribute 7\n"
     ]
    }
   ],
   "source": [
    "import json\n",
    "\n",
    "data = '''\n",
    "[\n",
    "  { \\\"id\\\" : \\\"001\\\",\n",
    "    \\\"x\\\" : \\\"2\\\",\n",
    "    \\\"name\\\" : \\\"Chuck\\\"\n",
    "  } ,\n",
    "  { \\\"id\\\" : \\\"009\\\",\n",
    "    \\\"x\\\" : \\\"7\\\",\n",
    "    \\\"name\\\" : \\\"Brent\\\"\n",
    "  }\n",
    "]'''\n",
    "\n",
    "info = json.loads(data)\n",
    "print('User count:', len(info))\n",
    "\n",
    "for item in info:\n",
    "    print('Name', item['name'])\n",
    "    print('Id', item['id'])\n",
    "    print('Attribute', item['x'])\n",
    "\n",
    "# Code: http://www.py4e.com/code3/json2.py"
   ]
  },
  {
   "cell_type": "markdown",
   "metadata": {},
   "source": [
    "If you compare the code to extract data from the parsed JSON and XML you will see that what we get from json.loads() is a Python list which we traverse with a for loop, and each item within that list is a Python dictionary. Once the JSON has been parsed, we can use the Python index operator to extract the various bits of data for each user. We don't have to use the JSON library to dig through the parsed JSON, since the returned data is simply native Python structures.\n",
    "\n",
    "The output of this program is exactly the same as the XML version above.\n",
    "\n",
    "```plaintext\n",
    "User count: 2\n",
    "Name Chuck\n",
    "Id 001\n",
    "Attribute 2\n",
    "Name Brent\n",
    "Id 009\n",
    "Attribute 7\n",
    "```\n",
    "\n",
    "In general, there is an industry trend away from XML and towards JSON for web services. Because the JSON is simpler and more directly maps to native data structures we already have in programming languages, the parsing and data extraction code is usually simpler and more direct when using JSON. But XML is more self-descriptive than JSON and so there are some applications where XML retains an advantage. For example, most word processors store documents internally using XML rather than JSON."
   ]
  },
  {
   "cell_type": "markdown",
   "metadata": {},
   "source": [
    "## 13.5: Application Programming Interfaces"
   ]
  },
  {
   "cell_type": "markdown",
   "metadata": {},
   "source": [
    "We now have the ability to exchange data between applications using HyperText Transport Protocol (HTTP) and a way to represent complex data that we are sending back and forth between these applications using eXtensible Markup Language (XML) or JavaScript Object Notation (JSON).\n",
    "\n",
    "The next step is to begin to define and document \"contracts\" between applications using these techniques. The general name for these application-to-application contracts is Application Program Interfaces or APIs. When we use an API, generally one program makes a set of services available for use by other applications and publishes the APIs (i.e., the \"rules\") that must be followed to access the services provided by the program.\n",
    "\n",
    "When we begin to build our programs where the functionality of our program includes access to services provided by other programs, we call the approach a Service-Oriented Architecture or SOA. A SOA approach is one where our overall application makes use of the services of other applications. A non-SOA approach is where the application is a single standalone application which contains all of the code necessary to implement the application.\n",
    "\n",
    "We see many examples of SOA when we use the web. We can go to a single web site and book air travel, hotels, and automobiles all from a single site. The data for hotels is not stored on the airline computers. Instead, the airline computers contact the services on the hotel computers and retrieve the hotel data and present it to the user. When the user agrees to make a hotel reservation using the airline site, the airline site uses another web service on the hotel systems to actually make the reservation. And when it comes time to charge your credit card for the whole transaction, still other computers become involved in the process.\n",
    "\n",
    "![Alt text](./soa.svg \"Service Oriented Architecture\")\n",
    "\n",
    "A Service-Oriented Architecture has many advantages including: (1) we always maintain only one copy of data (this is particularly important for things like hotel reservations where we do not want to over-commit) and (2) the owners of the data can set the rules about the use of their data. With these advantages, an SOA system must be carefully designed to have good performance and meet the user's needs.\n",
    "\n",
    "When an application makes a set of services in its API available over the web, we call these web services."
   ]
  },
  {
   "cell_type": "markdown",
   "metadata": {},
   "source": [
    "## 13.6: Google geocoding web service"
   ]
  },
  {
   "cell_type": "markdown",
   "metadata": {},
   "source": [
    "Google has an excellent web service that allows us to make use of their large database of geographic information. We can submit a geographical search string like \"Ann Arbor, MI\" to their geocoding API and have Google return its best guess as to where on a map we might find our search string and tell us about the landmarks nearby.\n",
    "\n",
    "The geocoding service is free but rate limited so you cannot make unlimited use of the API in a commercial application. But if you have some survey data where an end user has entered a location in a free-format input box, you can use this API to clean up your data quite nicely.\n",
    "\n",
    "When you are using a free API like Google's geocoding API, you need to be respectful in your use of these resources. If too many people abuse the service, Google might drop or significantly curtail its free service.\n",
    "\n",
    "You can read the online documentation for this service, but it is quite simple and you can even test it using a browser by typing the following URL into your browser:\n",
    "\n",
    "http://maps.googleapis.com/maps/api/geocode/json?address=Ann+Arbor%2C+MI\n",
    "\n",
    "Make sure to unwrap the URL and remove any spaces from the URL before pasting it into your browser.\n",
    "\n",
    "The following is a simple application to prompt the user for a search string, call the Google geocoding API, and extract information from the returned JSON."
   ]
  },
  {
   "cell_type": "code",
   "execution_count": 2,
   "metadata": {},
   "outputs": [
    {
     "name": "stdout",
     "output_type": "stream",
     "text": [
      "Retrieving http://maps.googleapis.com/maps/api/geocode/json?address=Ann+Arbor%2C+MI\n",
      "Retrieved 236 characters\n",
      "==== Failure To Retrieve ====\n",
      "{\n",
      "   \"error_message\" : \"You must use an API key to authenticate each request to Google Maps Platform APIs. For additional information, please refer to http://g.co/dev/maps-no-account\",\n",
      "   \"results\" : [],\n",
      "   \"status\" : \"REQUEST_DENIED\"\n",
      "}\n"
     ]
    }
   ],
   "source": [
    "import urllib.request, urllib.parse, urllib.error\n",
    "import json\n",
    "\n",
    "# Note that Google is increasingly requiring keys\n",
    "# for this API\n",
    "serviceurl = 'http://maps.googleapis.com/maps/api/geocode/json?'\n",
    "\n",
    "while True:\n",
    "    address = input('Enter location: ')\n",
    "    if len(address) < 1: break\n",
    "\n",
    "    url = serviceurl + urllib.parse.urlencode(\n",
    "        {'address': address})\n",
    "\n",
    "    print('Retrieving', url)\n",
    "    uh = urllib.request.urlopen(url)\n",
    "    data = uh.read().decode()\n",
    "    print('Retrieved', len(data), 'characters')\n",
    "\n",
    "    try:\n",
    "        js = json.loads(data)\n",
    "    except:\n",
    "        js = None\n",
    "\n",
    "    if not js or 'status' not in js or js['status'] != 'OK':\n",
    "        print('==== Failure To Retrieve ====')\n",
    "        print(data)\n",
    "        continue\n",
    "\n",
    "    print(json.dumps(js, indent=4))\n",
    "\n",
    "    lat = js[\"results\"][0][\"geometry\"][\"location\"][\"lat\"]\n",
    "    lng = js[\"results\"][0][\"geometry\"][\"location\"][\"lng\"]\n",
    "    print('lat', lat, 'lng', lng)\n",
    "    location = js['results'][0]['formatted_address']\n",
    "    print(location)\n",
    "\n",
    "# Code: http://www.py4e.com/code3/geojson.py"
   ]
  },
  {
   "cell_type": "markdown",
   "metadata": {},
   "source": [
    "The program takes the search string and constructs a URL with the search string as a properly encoded parameter and then uses urllib to retrieve the text from the Google geocoding API. Unlike a fixed web page, the data we get depends on the parameters we send and the geographical data stored in Google's servers.\n",
    "\n",
    "Once we retrieve the JSON data, we parse it with the json library and do a few checks to make sure that we received good data, then extract the information that we are looking for.\n",
    "\n",
    "The output of the program is as follows (some of the returned JSON has been removed):\n",
    "\n",
    "```plain text\n",
    "$ python3 geojson.py\n",
    "Enter location: Ann Arbor, MI\n",
    "Retrieving http://maps.googleapis.com/maps/api/\n",
    "  geocode/json?address=Ann+Arbor%2C+MI\n",
    "Retrieved 1669 characters\n",
    "```\n",
    "\n",
    "```json\n",
    "{\n",
    "    \"status\": \"OK\",\n",
    "    \"results\": [\n",
    "        {\n",
    "            \"geometry\": {\n",
    "                \"location_type\": \"APPROXIMATE\",\n",
    "                \"location\": {\n",
    "                    \"lat\": 42.2808256,\n",
    "                    \"lng\": -83.7430378\n",
    "                }\n",
    "            },\n",
    "            \"address_components\": [\n",
    "                {\n",
    "                    \"long_name\": \"Ann Arbor\",\n",
    "                    \"types\": [\n",
    "                        \"locality\",\n",
    "                        \"political\"\n",
    "                    ],\n",
    "                    \"short_name\": \"Ann Arbor\"\n",
    "                }\n",
    "            ],\n",
    "            \"formatted_address\": \"Ann Arbor, MI, USA\",\n",
    "            \"types\": [\n",
    "                \"locality\",\n",
    "                \"political\"\n",
    "            ]\n",
    "        }\n",
    "    ]\n",
    "}\n",
    "lat 42.2808256 lng -83.7430378\n",
    "Ann Arbor, MI, USA\n",
    "```\n",
    "\n",
    "You can download: \n",
    "http://www.py4e.com/code3/geoxml.py \n",
    "to explore the XML variant of the Google geocoding API."
   ]
  },
  {
   "cell_type": "markdown",
   "metadata": {},
   "source": [
    "## 13.7: Security and API usage"
   ]
  },
  {
   "cell_type": "markdown",
   "metadata": {},
   "source": [
    "It is quite common that you need some kind of \"API key\" to make use of a vendor's API. The general idea is that they want to know who is using their services and how much each user is using. Perhaps they have free and pay tiers of their services or have a policy that limits the number of requests that a single individual can make during a particular time period.\n",
    "\n",
    "Sometimes once you get your API key, you simply include the key as part of POST data or perhaps as a parameter on the URL when calling the API.\n",
    "\n",
    "Other times, the vendor wants increased assurance of the source of the requests and so they add expect you to send cryptographically signed messages using shared keys and secrets. A very common technology that is used to sign requests over the Internet is called OAuth. You can read more about the OAuth protocol at www.oauth.net.\n",
    "\n",
    "As the Twitter API became increasingly valuable, Twitter went from an open and public API to an API that required the use of OAuth signatures on each API request. Thankfully there are still a number of convenient and free OAuth libraries so you can avoid writing an OAuth implementation from scratch by reading the specification. These libraries are of varying complexity and have varying degrees of richness. The OAuth web site has information about various OAuth libraries.\n",
    "\n",
    "For this next sample program we will download the files [twurl.py](https://www.py4e.com/code3/twurl.py), [hidden.py](https://www.py4e.com/code3/hidden.py), [oauth.py](https://www.py4e.com/code3/oauth.py), and [twitter1.py](https://www.py4e.com/code3/twitter1.py) from http://www.py4e.com/code and put them all in a folder on your computer.\n",
    "\n",
    "To make use of these programs you will need to have a Twitter account, and authorize your Python code as an application, set up a key, secret, token and token secret. You will edit the file `hidden.py` and put these four strings into the appropriate variables in the file:"
   ]
  },
  {
   "cell_type": "markdown",
   "metadata": {},
   "source": [
    "**BUT BECAUSE TWITTER NOW IS NOT ANY MORE, THIS CODE IS NO LONGER WORKING**"
   ]
  },
  {
   "cell_type": "markdown",
   "metadata": {},
   "source": [
    "## 13.E: Python and Web Services (Exercises)"
   ]
  },
  {
   "cell_type": "markdown",
   "metadata": {},
   "source": [
    "## 13.G: Python and Web Services (Glossary)"
   ]
  },
  {
   "cell_type": "markdown",
   "metadata": {},
   "source": [
    "**API:**\n",
    "Application Program Interface - A contract between applications that defines the patterns of interaction between two application components.\n",
    "\n",
    "**ElementTree:**\n",
    "A built-in Python library used to parse XML data.\n",
    "\n",
    "**JSON:**\n",
    "JavaScript Object Notation. A format that allows for the markup of structured data based on the syntax of JavaScript Objects.\n",
    "\n",
    "**SOA:**\n",
    "Service-Oriented Architecture. When an application is made of components connected across a network.\n",
    "\n",
    "**XML:**\n",
    "eXtensible Markup Language. A format that allows for the markup of structured data."
   ]
  }
 ],
 "metadata": {
  "kernelspec": {
   "display_name": "base",
   "language": "python",
   "name": "python3"
  },
  "language_info": {
   "codemirror_mode": {
    "name": "ipython",
    "version": 3
   },
   "file_extension": ".py",
   "mimetype": "text/x-python",
   "name": "python",
   "nbconvert_exporter": "python",
   "pygments_lexer": "ipython3",
   "version": "3.9.18"
  }
 },
 "nbformat": 4,
 "nbformat_minor": 2
}
