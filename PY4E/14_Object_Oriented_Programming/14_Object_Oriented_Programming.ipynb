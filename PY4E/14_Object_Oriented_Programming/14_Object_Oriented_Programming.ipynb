{
 "cells": [
  {
   "cell_type": "markdown",
   "metadata": {},
   "source": [
    "# 14 Object-Oriented Programming"
   ]
  },
  {
   "cell_type": "markdown",
   "metadata": {},
   "source": [
    "As programs get to be millions of lines long, it becomes increasingly important to write code that is easy to understand. If you are working on a million line program, you can never keep the entire program in your mind at the same time. So we need ways to break the program into multiple smaller pieces so to solve a problem, fix a bug, or add a new feature we have less to look at. In a way, object oriented programming is a way to arrange your code so that you can zoom into 500 lines of the code, and understand it while ignoring the other 999,500 lines of code for the moment."
   ]
  },
  {
   "cell_type": "markdown",
   "metadata": {},
   "source": [
    "## 14.1: Managing Larger Programs"
   ]
  },
  {
   "cell_type": "markdown",
   "metadata": {},
   "source": [
    "At the beginning of this book, we came up with four basic programming patterns which we use to construct programs:\n",
    "\n",
    "- Sequential code\n",
    "- Conditional code (if statements)\n",
    "- Repetitive code (loops)\n",
    "- Store and reuse (functions)\n",
    "\n",
    "In later chapters, we explored simple variables as well as collection data structures like lists, tuples, and dictionaries.\n",
    "\n",
    "As we build programs, we design data structures and write code to manipulate those data structures. There are many ways to write programs and by now, you probably have written some programs that are \"not so elegant\" and other programs that are \"more elegant\". Even though your programs may be small, you are starting to see how there is a bit of \"art\" and \"aesthetic\" to writing code.\n",
    "\n",
    "As programs get to be millions of lines long, it becomes increasingly important to write code that is easy to understand. If you are working on a million line program, you can never keep the entire program in your mind at the same time. So we need ways to break the program into multiple smaller pieces so to solve a problem, fix a bug, or add a new feature we have less to look at.\n",
    "\n",
    "In a way, object oriented programming is a way to arrange your code so that you can zoom into 500 lines of the code, and understand it while ignoring the other 999,500 lines of code for the moment."
   ]
  },
  {
   "cell_type": "markdown",
   "metadata": {},
   "source": [
    "## 14.2: Getting Started"
   ]
  },
  {
   "cell_type": "markdown",
   "metadata": {},
   "source": [
    "Like many aspects of programming it is necessary to learn the concepts of object oriented programming before you can use them effectively. So approach this chapter as a way to learn some terms and concepts and work through a few simple examples to lay a foundation for future learning. Throughout the rest of the book we will be using objects in many of the programs but we won't be building our own new objects in the programs.\n",
    "\n",
    "The key outcome of this chapter is to have a basic understanding of how objects are constructed and how they function and most importantly how we make use of the capabilities of objects that are provided to us by Python and Python libraries."
   ]
  },
  {
   "cell_type": "markdown",
   "metadata": {},
   "source": [
    "## 14.3: Using Objects"
   ]
  },
  {
   "cell_type": "markdown",
   "metadata": {},
   "source": [
    "It turns out we have been using objects all along in this class. Python provides us with many built-in objects. Here is some simple code where the first few lines should feel very simple and natural to you."
   ]
  },
  {
   "cell_type": "code",
   "execution_count": 1,
   "metadata": {},
   "outputs": [
    {
     "name": "stdout",
     "output_type": "stream",
     "text": [
      "chuck\n",
      "chuck\n",
      "chuck\n"
     ]
    }
   ],
   "source": [
    "stuff = list()\n",
    "stuff.append('python')\n",
    "stuff.append('chuck')\n",
    "stuff.sort()\n",
    "print (stuff[0])\n",
    "\n",
    "print (stuff.__getitem__(0))\n",
    "print (list.__getitem__(stuff,0))\n",
    "\n",
    "# Code: http://www.py4e.com/code3/party1.py"
   ]
  },
  {
   "cell_type": "markdown",
   "metadata": {},
   "source": [
    "But instead of focusing on what these lines accomplish, lets look at what is really happening from the point of view of object-oriented programming. Don't worry if the following paragraphs don't make any sense the first time you read them because we have not yet defined all these terms.\n",
    "\n",
    "The first line is constructing an object of type list, the second and third lines are calling the `append()` method, the fourth line is calling the `sort()` method, and the fifth line is retrieving the item at position 0.\n",
    "\n",
    "The sixth line is calling the `__getitem__()` method in the stuff list with a parameter of zero.\n",
    "\n",
    "```python\n",
    "print (stuff.__getitem__(0))\n",
    "```\n",
    "\n",
    "The seventh line is an even more verbose way of retrieving the 0th item in the list.\n",
    "\n",
    "```python\n",
    "print (list.__getitem__(stuff,0))\n",
    "```\n",
    "\n",
    "In this code, we care calling the `__getitem__` method in the `list` class and passing in the list (`stuff`) and the item we want retrieved from the list as parameters.\n",
    "\n",
    "The last three lines of the program are completely equivalent, but it is more convenient to simply use the square bracket syntax to look up an item at a particular position in a list.\n",
    "\n",
    "We can take a look into the capabilities of an object by looking at the output of the `dir()` function:"
   ]
  },
  {
   "cell_type": "code",
   "execution_count": 2,
   "metadata": {},
   "outputs": [
    {
     "data": {
      "text/plain": [
       "['__add__',\n",
       " '__class__',\n",
       " '__class_getitem__',\n",
       " '__contains__',\n",
       " '__delattr__',\n",
       " '__delitem__',\n",
       " '__dir__',\n",
       " '__doc__',\n",
       " '__eq__',\n",
       " '__format__',\n",
       " '__ge__',\n",
       " '__getattribute__',\n",
       " '__getitem__',\n",
       " '__gt__',\n",
       " '__hash__',\n",
       " '__iadd__',\n",
       " '__imul__',\n",
       " '__init__',\n",
       " '__init_subclass__',\n",
       " '__iter__',\n",
       " '__le__',\n",
       " '__len__',\n",
       " '__lt__',\n",
       " '__mul__',\n",
       " '__ne__',\n",
       " '__new__',\n",
       " '__reduce__',\n",
       " '__reduce_ex__',\n",
       " '__repr__',\n",
       " '__reversed__',\n",
       " '__rmul__',\n",
       " '__setattr__',\n",
       " '__setitem__',\n",
       " '__sizeof__',\n",
       " '__str__',\n",
       " '__subclasshook__',\n",
       " 'append',\n",
       " 'clear',\n",
       " 'copy',\n",
       " 'count',\n",
       " 'extend',\n",
       " 'index',\n",
       " 'insert',\n",
       " 'pop',\n",
       " 'remove',\n",
       " 'reverse',\n",
       " 'sort']"
      ]
     },
     "execution_count": 2,
     "metadata": {},
     "output_type": "execute_result"
    }
   ],
   "source": [
    "stuff = list()\n",
    "dir(stuff)"
   ]
  },
  {
   "cell_type": "markdown",
   "metadata": {},
   "source": [
    "The precise definition of `dir()` is that it lists the methods and attributes of a Python object.\n",
    "\n",
    "The rest of this chapter will define all of the above terms so make sure to come back after you finish the chapter and re-read the above paragraphs to check your understanding."
   ]
  },
  {
   "cell_type": "markdown",
   "metadata": {},
   "source": [
    "## 14.4: Starting with Programs"
   ]
  },
  {
   "cell_type": "markdown",
   "metadata": {},
   "source": [
    "A program in its most basic form takes some input, does some processing, and produces some output. Our elevator conversion program demonstrates a very short but complete program showing all three of these steps."
   ]
  },
  {
   "cell_type": "code",
   "execution_count": 3,
   "metadata": {},
   "outputs": [
    {
     "name": "stdout",
     "output_type": "stream",
     "text": [
      "Non-US Floor Number is 1\n"
     ]
    }
   ],
   "source": [
    "usf = input('Enter the US Floor Number: ')\n",
    "wf = int(usf) - 1\n",
    "print('Non-US Floor Number is',wf)\n",
    "\n",
    "# Code: http://www.py4e.com/code3/elev.py"
   ]
  },
  {
   "cell_type": "markdown",
   "metadata": {},
   "source": [
    "If we think a bit more about this program, there is the \"outside world\" and the program. The input and output aspects are where the program interacts with the outside world. Within the program we have code and data to accomplish the task the program is designed to solve."
   ]
  },
  {
   "cell_type": "markdown",
   "metadata": {},
   "source": [
    "![Alt text](./program.svg)"
   ]
  },
  {
   "cell_type": "markdown",
   "metadata": {},
   "source": [
    "When we are \"in\" the program, we have some defined interactions with the \"outside\" world, but those interactions are well defined and generally not something we focus on. While we are coding we worry only about the details \"inside the program\".\n",
    "\n",
    "One way to think about object oriented programming is that we are separating our program into multiple \"zones\". Each \"zone\" contains some code and data (like a program) and has well defined interactions with the outside world and the other zones within the program.\n",
    "\n",
    "If we look back at the link extraction application where we used the BeautifulSoup library, we can see a program that is constructed by connecting different objects together to accomplish a task:"
   ]
  },
  {
   "cell_type": "code",
   "execution_count": 5,
   "metadata": {},
   "outputs": [
    {
     "name": "stdout",
     "output_type": "stream",
     "text": [
      "https://www.digisport.ro/app\n",
      "https://www.digisport.ro/live/digisport-1\n",
      "https://www.digisport.ro/live/digisport-1\n",
      "https://www.digisport.ro/live/digisport-2\n",
      "https://www.digisport.ro/live/digisport-3\n",
      "https://www.digisport.ro/live/digisport-4\n",
      "https://www.digisport.ro/program-tv\n",
      "https://www.digisport.ro/\n",
      "https://www.digisport.ro/video\n",
      "https://www.digisport.ro/fotbal/liga-1\n",
      "https://www.digisport.ro/fotbal/champions-league\n",
      "https://www.digisport.ro/fotbal/premier-league\n",
      "https://www.digisport.ro/tenis\n",
      "https://www.digisport.ro/la-liga\n",
      "https://www.digisport.ro/f1\n",
      "/jo-2024\n",
      "/live/online\n",
      "https://www.digisport.ro/fotbal\n",
      "/alte-sporturi\n",
      "/cautare\n",
      "/fotbal/super-lig/alexandru-cicaldau-pleaca-definitiv-de-la-galatasaray-ultimele-negocieri-pentru-transferul-sau-3119547\n",
      "/fotbal/super-lig/alexandru-cicaldau-pleaca-definitiv-de-la-galatasaray-ultimele-negocieri-pentru-transferul-sau-3119547\n",
      "None\n",
      "None\n",
      "None\n",
      "https://www.youtube.com/DigiSportOficial\n",
      "https://www.instagram.com/digisport.ro\n",
      "https://www.tiktok.com/@digisport.ro\n",
      "/jo-2024/cum-a-fost-primita-imane-khelif-in-regiunea-sa-natala-dupa-ce-la-jo-2024-a-fost-acuzata-ca-este-barbat-3120173\n",
      "/fotbal/premier-league/arsenal-wolves-1-0-acum-dgs-1-goool-kai-havertz-ipswich-liverpool-0-2-3119221\n",
      "/fotbal/liga-1/fc-botosani-uta-live-video-1900-dgs-1-rednic-spera-sa-profite-de-schimbarea-de-sistem-de-la-moldoveni-3119389\n",
      "/fotbal/premier-league/reactia-lui-arne-slot-dupa-debutul-oficial-la-liverpool-ce-l-a-deranjat-pe-inlocuitorul-lui-jurgen-klopp-3120157\n",
      "/fotbal/liga-2/mihai-roman-a-semnat-a-revenit-in-fotbalul-romanesc-dupa-ce-jumatate-de-an-a-jucat-in-uzbekistan-3120125\n",
      "/fotbal/super-lig/alexandru-cicaldau-pleaca-definitiv-de-la-galatasaray-ultimele-negocieri-pentru-transferul-sau-3119547\n",
      "/special/nu-s-a-mai-abtinut-dupa-ce-barbatul-care-i-a-fost-sot-timp-de-14-ani-a-dezvaluit-ca-e-homosexual-ma-simt-folosita-a-negat-3120097\n",
      "/fotbal/liga-1/neil-lennon-nu-s-a-ferit-de-cuvinte-la-conferinta-de-presa-cand-a-fost-intrebat-despre-marius-sumudica-3120073\n",
      "/fotbal/liga-1/olandezii-nu-s-au-abtinut-dupa-ce-au-auzit-ca-psv-vrea-sa-l-transfere-pe-darius-olaru-de-la-fcsb-e-o-gluma-3120081\n",
      "/fotbal/la-liga/andrei-ratiu-pacalit-de-rayo-vallecano-dupa-ce-a-impresionat-la-euro-2024-decizia-luata-de-antrenorul-echipei-3119775\n",
      "/ultimele-stiri\n",
      "/fotbal/liga-2/mihai-roman-a-semnat-a-revenit-in-fotbalul-romanesc-dupa-ce-jumatate-de-an-a-jucat-in-uzbekistan-3120125\n",
      "None\n",
      "None\n",
      "None\n",
      "https://www.youtube.com/DigiSportOficial\n",
      "https://www.instagram.com/digisport.ro\n",
      "https://www.tiktok.com/@digisport.ro\n",
      "/fotbal/liga-1/neil-lennon-nu-s-a-ferit-de-cuvinte-la-conferinta-de-presa-cand-a-fost-intrebat-despre-marius-sumudica-3120073\n",
      "None\n",
      "None\n",
      "None\n",
      "https://www.youtube.com/DigiSportOficial\n",
      "https://www.instagram.com/digisport.ro\n",
      "https://www.tiktok.com/@digisport.ro\n",
      "/fotbal/la-liga/andrei-ratiu-pacalit-de-rayo-vallecano-dupa-ce-a-impresionat-la-euro-2024-decizia-luata-de-antrenorul-echipei-3119775\n",
      "None\n",
      "None\n",
      "None\n",
      "https://www.youtube.com/DigiSportOficial\n",
      "https://www.instagram.com/digisport.ro\n",
      "https://www.tiktok.com/@digisport.ro\n",
      "/echipa-ta/fcsb\n",
      "/echipa-ta/dinamo-bucuresti\n",
      "/echipa-ta/rapid\n",
      "/echipa-ta/universitatea-craiova\n",
      "/echipa-ta/cfr-cluj\n",
      "/echipa-ta/fcu-1948-craiova\n",
      "/echipa-ta/uta-arad\n",
      "/echipa-ta/fc-arges\n",
      "/echipa-ta/steaua\n",
      "/echipa-ta/petrolul-ploiesti\n",
      "/echipa-ta/u-cluj\n",
      "/echipa-ta/farul-constanta\n",
      "/echipa-ta/sepsi\n",
      "/echipa-ta/fc-botosani\n",
      "/echipa-ta/hermannstadt\n",
      "/echipa-ta/fc-voluntari\n",
      "/echipa-ta/otelul-galati\n",
      "/echipa-ta/poli-iasi\n",
      "/echipa-ta/gloria-buzau\n",
      "/echipa-ta/unirea-slobozia\n",
      "https://www.digi24.ro/stiri/externe/kievul-face-apel-la-onu-dupa-ce-au-aparut-imagini-cu-un-soldat-ucrainean-decapitat-de-rusi-in-belgorod-2898141\n",
      "/jo-2024/cum-a-fost-primita-imane-khelif-in-regiunea-sa-natala-dupa-ce-la-jo-2024-a-fost-acuzata-ca-este-barbat-3120173\n",
      "/fotbal/premier-league/arsenal-wolves-1-0-acum-dgs-1-goool-kai-havertz-ipswich-liverpool-0-2-3119221\n",
      "https://www.sport.ro/liga-1/presiune-pe-neil-lennon-rabdarea-are-un-sfarsit-daca-nu-castiga-cu-dinamo-se-va-face-o-miscare.html?utm_source=digisport.ro&utm_medium=referral&utm_campaign=cross\n",
      "/fotbal/liga-1/fc-botosani-uta-live-video-1900-dgs-1-rednic-spera-sa-profite-de-schimbarea-de-sistem-de-la-moldoveni-3119389\n",
      "None\n",
      "None\n",
      "None\n",
      "https://www.youtube.com/DigiSportOficial\n",
      "https://www.instagram.com/digisport.ro\n",
      "https://www.tiktok.com/@digisport.ro\n",
      "/fotbal/premier-league/reactia-lui-arne-slot-dupa-debutul-oficial-la-liverpool-ce-l-a-deranjat-pe-inlocuitorul-lui-jurgen-klopp-3120157\n",
      "None\n",
      "None\n",
      "None\n",
      "https://www.youtube.com/DigiSportOficial\n",
      "https://www.instagram.com/digisport.ro\n",
      "https://www.tiktok.com/@digisport.ro\n",
      "https://www.digi24.ro/stiri/actualitate/social/iubitul-doamnei-cu-coasa-de-la-spitalul-pantelimon-s-a-trezit-din-coma-si-urmeaza-sa-fie-audiat-ce-spun-procurorii-2898167\n",
      "https://www.fanatik.ro/m-a-sunat-si-mi-a-multumit-m-ai-facut-milionar-gigi-becali-a-dezvaluit-telefonul-fostului-jucator-de-la-fcsb-20788789\n",
      "/special/nu-s-a-mai-abtinut-dupa-ce-barbatul-care-i-a-fost-sot-timp-de-14-ani-a-dezvaluit-ca-e-homosexual-ma-simt-folosita-a-negat-3120097\n",
      "None\n",
      "None\n",
      "None\n",
      "https://www.youtube.com/DigiSportOficial\n",
      "https://www.instagram.com/digisport.ro\n",
      "https://www.tiktok.com/@digisport.ro\n",
      "/fotbal/liga-1/olandezii-nu-s-au-abtinut-dupa-ce-au-auzit-ca-psv-vrea-sa-l-transfere-pe-darius-olaru-de-la-fcsb-e-o-gluma-3120081\n",
      "None\n",
      "None\n",
      "None\n",
      "https://www.youtube.com/DigiSportOficial\n",
      "https://www.instagram.com/digisport.ro\n",
      "https://www.tiktok.com/@digisport.ro\n",
      "https://www.prosport.ro/fotbal-intern/superliga/lokomotiv-moscova-e-echipa-din-rusia-care-i-a-oferit-5-000-000-de-euro-lui-gigi-becali-pentru-transferul-lui-darius-olaru-ce-salariu-i-a-propus-fotbalistului-nu-e-cel-anuntat-de-patronul-fcsb-exclu-19965375\n",
      "/special/a-publicat-o-poza-din-vestiar-si-a-scris-trei-cuvinte-iar-internetul-a-luat-o-razna-la-cat-mai-multe-3120007\n",
      "None\n",
      "None\n",
      "None\n",
      "https://www.youtube.com/DigiSportOficial\n",
      "https://www.instagram.com/digisport.ro\n",
      "https://www.tiktok.com/@digisport.ro\n",
      "https://newsweek.ro/social/unde-se-pot-duce-pensionarii-nemultimiti-de-pensia-recalculata-deciziile-cu-erori-pot-fi-contestate\n",
      "/fotbal/liga-1/supararea-lui-zeljko-kopic-chiar-inainte-de-derby-ul-cu-rapid-speram-sa-nu-mai-patim-3119719\n",
      "None\n",
      "None\n",
      "None\n",
      "https://www.youtube.com/DigiSportOficial\n",
      "https://www.instagram.com/digisport.ro\n",
      "https://www.tiktok.com/@digisport.ro\n",
      "/live/online/wta-cincinnati-ziua-5-qf-3118635\n",
      "/live/online/atp-cincinnati-ziua-6-qf-3118641\n",
      "/fotbal/mercato-2024-toate-transferurile-verii-sunt-aici-psg-a-platit-50-000-000e-pentru-un-nou-jucator-2986335\n",
      "/jo-2024/david-popovici-dupa-ce-a-fost-premiat-de-fundatia-tiriac-am-venit-doi-oameni-cu-o-masina-plecam-cu-trei-masini-3118317\n",
      "/jo-2024/americanii-fara-limite-in-ziua-in-care-ana-barbosu-a-primit-medalia-de-bronz-nu-are-ce-cauta-in-romania-3118825\n",
      "/jo-2024/jordan-chiles-isi-pastreaza-medalia-de-bronz-anuntul-facut-de-presa-din-sua-3119293\n",
      "/fotbal/liga-1/reactie-neasteptata-dupa-decizia-luata-de-lokomotiv-moscova-in-privinta-lui-darius-olaru-3118697\n",
      "/jo-2024/cum-a-fost-primita-imane-khelif-in-regiunea-sa-natala-dupa-ce-la-jo-2024-a-fost-acuzata-ca-este-barbat-3120173\n",
      "/fotbal/premier-league/arsenal-wolves-1-0-acum-dgs-1-goool-kai-havertz-ipswich-liverpool-0-2-3119221\n",
      "/fotbal/liga-1/fc-botosani-uta-live-video-1900-dgs-1-rednic-spera-sa-profite-de-schimbarea-de-sistem-de-la-moldoveni-3119389\n",
      "/fotbal/premier-league/reactia-lui-arne-slot-dupa-debutul-oficial-la-liverpool-ce-l-a-deranjat-pe-inlocuitorul-lui-jurgen-klopp-3120157\n",
      "/fotbal/liga-2/mihai-roman-a-semnat-a-revenit-in-fotbalul-romanesc-dupa-ce-jumatate-de-an-a-jucat-in-uzbekistan-3120125\n",
      "https://www.digi24.ro/stiri/externe/mapamond/de-ce-este-muntele-everest-plin-de-cadavre-abandonate-in-zona-mortii-multe-dintre-ele-au-ajuns-sa-marcheze-traseul-spre-varf-2897613\n",
      "https://www.digi24.ro/?refid=digisport\n",
      "/program-tv\n",
      "/program-tv\n",
      "/fotbal/mercato-2024-toate-transferurile-verii-sunt-aici-psg-a-platit-50-000-000e-pentru-un-nou-jucator-2986335\n",
      "/jo-2024/david-popovici-dupa-ce-a-fost-premiat-de-fundatia-tiriac-am-venit-doi-oameni-cu-o-masina-plecam-cu-trei-masini-3118317\n",
      "/jo-2024/americanii-fara-limite-in-ziua-in-care-ana-barbosu-a-primit-medalia-de-bronz-nu-are-ce-cauta-in-romania-3118825\n",
      "/jo-2024/jordan-chiles-isi-pastreaza-medalia-de-bronz-anuntul-facut-de-presa-din-sua-3119293\n",
      "/fotbal/liga-1/reactie-neasteptata-dupa-decizia-luata-de-lokomotiv-moscova-in-privinta-lui-darius-olaru-3118697\n",
      "/jo-2024/cum-a-fost-primita-imane-khelif-in-regiunea-sa-natala-dupa-ce-la-jo-2024-a-fost-acuzata-ca-este-barbat-3120173\n",
      "/fotbal/premier-league/arsenal-wolves-1-0-acum-dgs-1-goool-kai-havertz-ipswich-liverpool-0-2-3119221\n",
      "/fotbal/liga-1/fc-botosani-uta-live-video-1900-dgs-1-rednic-spera-sa-profite-de-schimbarea-de-sistem-de-la-moldoveni-3119389\n",
      "/fotbal/premier-league/reactia-lui-arne-slot-dupa-debutul-oficial-la-liverpool-ce-l-a-deranjat-pe-inlocuitorul-lui-jurgen-klopp-3120157\n",
      "/fotbal/liga-2/mihai-roman-a-semnat-a-revenit-in-fotbalul-romanesc-dupa-ce-jumatate-de-an-a-jucat-in-uzbekistan-3120125\n",
      "/fotbal/premier-league/mohamed-salah-este-numarul-1-in-premier-league-recordul-stabilit-dupa-golul-marcat-in-prima-etapa-cu-ipswich-3119983\n",
      "/fotbal/premier-league/mohamed-salah-este-numarul-1-in-premier-league-recordul-stabilit-dupa-golul-marcat-in-prima-etapa-cu-ipswich-3119983\n",
      "None\n",
      "None\n",
      "None\n",
      "https://www.youtube.com/DigiSportOficial\n",
      "https://www.instagram.com/digisport.ro\n",
      "https://www.tiktok.com/@digisport.ro\n",
      "/fotbal/liga-1/te-vezi-la-fcsb-luat-prin-surprindere-dennis-politic-a-raspuns-categoric-3119977\n",
      "None\n",
      "None\n",
      "None\n",
      "https://www.youtube.com/DigiSportOficial\n",
      "https://www.instagram.com/digisport.ro\n",
      "https://www.tiktok.com/@digisport.ro\n",
      "https://www.filmnow.ro/stiri/a-fost-sotie-de-actor-si-obisnuia-sa-straluceasca-acum-loni-willison-traieste-pe-strazi-cauta-prin-tomberoane-si-tot-ce-mai-are-incape-intr-un-carucior-de-cumparaturi-141237\n",
      "/fotbal/serie-a/decizie-surprinzatoare-in-cazul-lui-paulo-dybala-care-s-a-inteles-cu-noua-echipa-3119987\n",
      "None\n",
      "None\n",
      "None\n",
      "https://www.youtube.com/DigiSportOficial\n",
      "https://www.instagram.com/digisport.ro\n",
      "https://www.tiktok.com/@digisport.ro\n",
      "/special/ion-alexandru-tiriac-discursul-zilei-am-mult-peste-2-metri-insa-niciodata-nu-m-am-simtit-atat-de-mic-3118245\n",
      "None\n",
      "None\n",
      "None\n",
      "https://www.youtube.com/DigiSportOficial\n",
      "https://www.instagram.com/digisport.ro\n",
      "https://www.tiktok.com/@digisport.ro\n",
      "/special/dorin-goian-marcat-dupa-ce-a-aflat-ce-face-acum-un-fost-coechipier-nu-cred-cum-ma-e-trist-3117267\n",
      "None\n",
      "None\n",
      "None\n",
      "https://www.youtube.com/DigiSportOficial\n",
      "https://www.instagram.com/digisport.ro\n",
      "https://www.tiktok.com/@digisport.ro\n",
      "/jo-2024/ion-tiriac-i-a-premiat-pe-medaliatii-de-la-jocurile-olimpice-cum-arata-cele-22-de-masini-oferite-cadou-3118059\n",
      "None\n",
      "None\n",
      "None\n",
      "https://www.youtube.com/DigiSportOficial\n",
      "https://www.instagram.com/digisport.ro\n",
      "https://www.tiktok.com/@digisport.ro\n",
      "/jo-2024/jordan-chiles-nu-si-a-respectat-cuvantul-ce-a-facut-la-trei-zile-dupa-ce-tas-a-anuntat-verdictul-final-3117541\n",
      "None\n",
      "None\n",
      "None\n",
      "https://www.youtube.com/DigiSportOficial\n",
      "https://www.instagram.com/digisport.ro\n",
      "https://www.tiktok.com/@digisport.ro\n",
      "/fotbal/liga-1/fotbalistul-dorit-de-gigi-becali-care-se-va-vinde-pe-bani-multi-a-semnat-cu-un-alt-club-din-superliga-3119967\n",
      "None\n",
      "None\n",
      "None\n",
      "https://www.youtube.com/DigiSportOficial\n",
      "https://www.instagram.com/digisport.ro\n",
      "https://www.tiktok.com/@digisport.ro\n",
      "https://adevarul.ro/sport/la-times-a-turbat-atac-josnic-la-ana-maria-2382265.html?utm_source=Site&utm_medium=DigiSportHome&utm_campaign=CrossExtern\n",
      "https://www.profm.ro/stiri/madonna-la-bratul-iubitului-ei-tinerel-au-plecat-intr-o-escapada-romantica-in-italia-inainte-cea-de-a-66-a-aniversare-a-artistei-207977\n",
      "/fotbal/liga-1/banel-nicolita-a-vrut-sa-l-transfere-pe-florinel-coman-la-10-ani-suma-oferita-atunci-pentru-mbappe-de-romania-3119883\n",
      "None\n",
      "None\n",
      "None\n",
      "https://www.youtube.com/DigiSportOficial\n",
      "https://www.instagram.com/digisport.ro\n",
      "https://www.tiktok.com/@digisport.ro\n",
      "/special/uefantastic-dat-disparut-ultima-oara-era-pe-langa-calarasi-pe-la-un-service-auto-3119831\n",
      "None\n",
      "None\n",
      "None\n",
      "https://www.youtube.com/DigiSportOficial\n",
      "https://www.instagram.com/digisport.ro\n",
      "https://www.tiktok.com/@digisport.ro\n",
      "/fotbal/serie-a/parma-fiorentina-live-video-digi-sport-2-dennis-man-valentin-mihaila-3119223\n",
      "None\n",
      "None\n",
      "None\n",
      "https://www.youtube.com/DigiSportOficial\n",
      "https://www.instagram.com/digisport.ro\n",
      "https://www.tiktok.com/@digisport.ro\n",
      "https://www.facebook.com/DigiSport.Romania\n",
      "https://www.tiktok.com/@digisport.ro\n",
      "https://www.instagram.com/digisport.ro\n",
      "https://www.youtube.com/DigiSportOficial\n",
      "/fotbal/la-liga/barcelona-valencia-live-video-2230-dgs-2-catalanii-fara-nicio-noutate-pe-gazon-la-debutul-noului-sezon-3119381\n",
      "/fotbal/la-liga/barcelona-valencia-live-video-2230-dgs-2-catalanii-fara-nicio-noutate-pe-gazon-la-debutul-noului-sezon-3119381\n",
      "None\n",
      "None\n",
      "None\n",
      "https://www.youtube.com/DigiSportOficial\n",
      "https://www.instagram.com/digisport.ro\n",
      "https://www.tiktok.com/@digisport.ro\n",
      "/fotbal/liga-1/fcsb-poli-iasi-live-video-de-la-2200-dgs-1-cu-o-victorie-campioana-romaniei-urca-pe-loc-de-play-off-3119309\n",
      "None\n",
      "None\n",
      "None\n",
      "https://www.youtube.com/DigiSportOficial\n",
      "https://www.instagram.com/digisport.ro\n",
      "https://www.tiktok.com/@digisport.ro\n",
      "https://www.digifm.ro/stiri/entertainment/suri-fiica-lui-tom-cruise-profita-de-ultimele-zile-inainte-de-a-pleca-la-facultate-tanara-de-18-ani-copia-fidela-a-parintilor-celebri-la-plimbare-cu-o-prietena-217884\n",
      "/fotbal/bundesliga/supercupa-germaniei-leverkusen-stuttgart-live-video-2130-dgs-3-alonso-poate-sa-intre-din-nou-in-istoria-farmacistilor-3119337\n",
      "None\n",
      "None\n",
      "None\n",
      "https://www.youtube.com/DigiSportOficial\n",
      "https://www.instagram.com/digisport.ro\n",
      "https://www.tiktok.com/@digisport.ro\n",
      "/video/fotbal/liga-1/verdictul-dat-la-miezul-noptii-dupa-ce-universitatea-craiova-a-umilit-o-pe-gloria-buzau-in-superliga-3119091\n",
      "/video/fotbal/conference-league/cfr-cluj-maccabi-petah-tikva-1-0-trupa-lui-dan-petrescu-s-a-calificat-in-play-off-ul-conference-league-3116695\n",
      "/video/fotbal/liga-1/helmut-duckadam-a-numit-echipa-care-va-fi-surpriza-superligii-din-acest-sezon-3117563\n",
      "/video\n",
      "/fotbal/la-liga/cuvintele-folosite-de-carlo-ancelotti-cand-l-a-descris-pe-kylian-mbappe-3119811\n",
      "/fotbal/la-liga/cuvintele-folosite-de-carlo-ancelotti-cand-l-a-descris-pe-kylian-mbappe-3119811\n",
      "None\n",
      "None\n",
      "None\n",
      "https://www.youtube.com/DigiSportOficial\n",
      "https://www.instagram.com/digisport.ro\n",
      "https://www.tiktok.com/@digisport.ro\n",
      "/fotbal/fotbal-international/cordoba-a-luat-decizia-ce-se-intampla-cu-transferul-lui-florin-andone-3119793\n",
      "None\n",
      "None\n",
      "None\n",
      "https://www.youtube.com/DigiSportOficial\n",
      "https://www.instagram.com/digisport.ro\n",
      "https://www.tiktok.com/@digisport.ro\n",
      "/fotbal/la-liga/noua-oferte-pentru-horatiu-moldovan-atletico-madrid-e-gata-sa-l-vanda-3119463\n",
      "None\n",
      "None\n",
      "None\n",
      "https://www.youtube.com/DigiSportOficial\n",
      "https://www.instagram.com/digisport.ro\n",
      "https://www.tiktok.com/@digisport.ro\n",
      "/fotbal/liga-1/de-ce-crede-daniel-pancu-ca-rapid-va-castiga-meciul-cu-dinamo-in-ciuda-perioadei-proaste-a-giulestenilor-3119721\n",
      "None\n",
      "None\n",
      "None\n",
      "https://www.youtube.com/DigiSportOficial\n",
      "https://www.instagram.com/digisport.ro\n",
      "https://www.tiktok.com/@digisport.ro\n",
      "/fotbal/serie-a/transferul-lui-ionut-radu-a-intrat-in-impas-cum-s-a-blocat-mutarea-de-la-inter-la-sassuolo-3119737\n",
      "None\n",
      "None\n",
      "None\n",
      "https://www.youtube.com/DigiSportOficial\n",
      "https://www.instagram.com/digisport.ro\n",
      "https://www.tiktok.com/@digisport.ro\n",
      "/fotbal/europa-league/fcsb-a-primit-o-veste-neasteptata-de-la-uefa-inaintea-meciului-tur-cu-lask-linz-din-play-off-ul-europa-league-3119497\n",
      "None\n",
      "None\n",
      "None\n",
      "https://www.youtube.com/DigiSportOficial\n",
      "https://www.instagram.com/digisport.ro\n",
      "https://www.tiktok.com/@digisport.ro\n",
      "/fotbal/liga-1/arbitrul-care-a-fost-delegat-la-derby-ul-rapid-dinamo-3119715\n",
      "None\n",
      "None\n",
      "None\n",
      "https://www.youtube.com/DigiSportOficial\n",
      "https://www.instagram.com/digisport.ro\n",
      "https://www.tiktok.com/@digisport.ro\n",
      "/fotbal/la-liga/prima-mizerie-scandal-in-spania-dupa-anularea-unui-gol-cu-ajutorul-sistemului-de-ofsaid-semi-automat-3119679\n",
      "None\n",
      "None\n",
      "None\n",
      "https://www.youtube.com/DigiSportOficial\n",
      "https://www.instagram.com/digisport.ro\n",
      "https://www.tiktok.com/@digisport.ro\n",
      "/video/fotbal/liga-1/costel-galca-a-anuntat-plecarea-unui-jucator-de-la-universitatea-craiova-dupa-5-1-cu-gloria-buzau-3119059\n",
      "/video/fotbal/liga-1/universitatea-craiova-gloria-buzau-5-1-oltenii-au-facut-spectacol-echipa-lui-galca-liderul-din-superliga-3117887\n",
      "/video/fotbal/liga-1/gigi-becali-a-numit-adversarii-fcsb-ului-la-titlu-in-superliga-echipa-surpriza-inclusa-in-lupta-3117277\n",
      "/video/fotbal/liga-1/intarire-pentru-fcsb-inainte-de-meciul-cu-poli-iasi-3118499\n",
      "/video\n",
      "/fotbal/liga-1/el-va-fi-capitanul-lui-dinamo-in-derby-ul-cu-rapid-dupa-accidentarea-lui-dennis-politic-e-special-3119689\n",
      "None\n",
      "None\n",
      "None\n",
      "https://www.youtube.com/DigiSportOficial\n",
      "https://www.instagram.com/digisport.ro\n",
      "https://www.tiktok.com/@digisport.ro\n",
      "/fotbal/la-liga/barcelona-a-luat-decizia-finala-in-cazul-lui-vitor-roque-cumparat-cu-40-de-milioane-de-euro-3119663\n",
      "None\n",
      "None\n",
      "None\n",
      "https://www.youtube.com/DigiSportOficial\n",
      "https://www.instagram.com/digisport.ro\n",
      "https://www.tiktok.com/@digisport.ro\n",
      "/tenis/alcaraz-si-a-pierdut-cumpatul-in-cel-mai-prost-meci-al-carierei-3119667\n",
      "/tenis/alcaraz-si-a-pierdut-cumpatul-in-cel-mai-prost-meci-al-carierei-3119667\n",
      "None\n",
      "None\n",
      "None\n",
      "https://www.youtube.com/DigiSportOficial\n",
      "https://www.instagram.com/digisport.ro\n",
      "https://www.tiktok.com/@digisport.ro\n",
      "/fotbal/liga-1/zeljko-kopic-mesaj-pentru-neil-lennon-inainte-de-rapid-dinamo-nu-se-compara-3119659\n",
      "/jo-2024/ce-au-scris-americanii-dupa-ce-au-vazut-o-pe-ana-barbosu-cu-medalia-de-bronz-la-gat-3119591\n",
      "/fotbal/la-liga/real-madrid-vrea-sa-rupa-blestemul-vechi-de-17-ani-3119281\n",
      "/jo-2024/ana-barbosu-a-primit-cadoul-de-50-000e-de-la-ion-tiriac-si-a-anuntat-ce-va-face-cu-acesta-deja-am-avut-ocazia-3119577\n",
      "/fotbal/la-liga/dumbravita-fcu-craiova-1-2-oltenii-marcheaza-in-prelungiri-si-pleaca-cu-toate-punctele-acasa-3119561\n",
      "None\n",
      "None\n",
      "None\n",
      "https://www.youtube.com/DigiSportOficial\n",
      "https://www.instagram.com/digisport.ro\n",
      "https://www.tiktok.com/@digisport.ro\n",
      "/fotbal/liga-1/danut-lupu-e-sigur-ca-rapidistul-sumudica-va-tine-cu-dinamo-in-derby-ul-din-giulesti-3119565\n",
      "None\n",
      "None\n",
      "None\n",
      "https://www.youtube.com/DigiSportOficial\n",
      "https://www.instagram.com/digisport.ro\n",
      "https://www.tiktok.com/@digisport.ro\n",
      "/fotbal/liga-1/costel-galca-descris-situatia-lui-alex-mitrita-in-cateva-cuvinte-3119417\n",
      "None\n",
      "None\n",
      "None\n",
      "https://www.youtube.com/DigiSportOficial\n",
      "https://www.instagram.com/digisport.ro\n",
      "https://www.tiktok.com/@digisport.ro\n",
      "https://www.profm.ro/stiri/madonna-la-bratul-iubitului-ei-tinerel-au-plecat-intr-o-escapada-romantica-in-italia-inainte-cea-de-a-66-a-aniversare-a-artistei-207977\n",
      "https://www.digi-world.tv/stiri/doua-varste-la-care-corpul-uman-se-schimba-radical-si-in-cazul-barbatilor-si-in-cazul-femeilor-imbatranirea-nu-e-un-proces-lent-si-constant-40714\n",
      "https://www.digi-animalworld.tv/stiri/animale/gestul-facut-de-un-caine-dupa-ce-a-fost-lasat-singur-acasa-a-iesit-pe-balcon-si-le-a-facut-o-surpriza-trecatorilor-22797\n",
      "/ultimele-stiri\n",
      "/termeni-si-conditii\n",
      "/politica-de-confidentialitate\n",
      "/aboneaza-te\n",
      "/frecvente-digi-sport\n",
      "/oferta-retransmisie\n",
      "/contact\n",
      "/codul-etic\n",
      "None\n",
      "/?getmobile=1\n",
      "https://www.digi.ro\n",
      "https://www.digionline.ro\n",
      "https://www.digi24.ro\n",
      "https://www.digisport.ro\n",
      "https://www.filmnow.ro\n",
      "https://www.digi-world.tv\n",
      "https://www.digi-animalworld.tv\n",
      "https://www.digi-life.tv\n",
      "https://www.utv.ro\n",
      "https://www.profm.ro\n",
      "https://www.digifm.ro\n",
      "https://www.dancefm.ro\n",
      "https://www.1music.ro\n",
      "https://www.facebook.com/DigiSport.Romania\n",
      "https://www.youtube.com/DigiSportOficial\n",
      "https://www.instagram.com/digisport.ro\n",
      "https://www.tiktok.com/@digisport.ro\n"
     ]
    }
   ],
   "source": [
    "# To run this, you can install BeautifulSoup\n",
    "# https://pypi.python.org/pypi/beautifulsoup4\n",
    "\n",
    "# Or download the file\n",
    "# http://www.py4e.com/code3/bs4.zip\n",
    "# and unzip it in the same directory as this file\n",
    "\n",
    "import urllib.request, urllib.parse, urllib.error\n",
    "from bs4 import BeautifulSoup\n",
    "import ssl\n",
    "\n",
    "# Ignore SSL certificate errors\n",
    "ctx = ssl.create_default_context()\n",
    "ctx.check_hostname = False\n",
    "ctx.verify_mode = ssl.CERT_NONE\n",
    "\n",
    "url = input('Enter - ')\n",
    "html = urllib.request.urlopen(url, context=ctx).read()\n",
    "soup = BeautifulSoup(html, 'html.parser')\n",
    "\n",
    "# Retrieve all of the anchor tags\n",
    "tags = soup('a')\n",
    "for tag in tags:\n",
    "    print(tag.get('href', None))\n",
    "\n",
    "# Code: http://www.py4e.com/code3/urllinks.py"
   ]
  },
  {
   "cell_type": "markdown",
   "metadata": {},
   "source": [
    "We read the URL into a string, and then pass that into `urllib` to retrieve the data from the web. The `urllib` library uses the `socket` library to make the actual network connection to retrieve the data. We take the string that we get back from `urllib` and hand it to BeautifulSoup for parsing. BeautifulSoup makes use of another object called `html.parser` and returns an object. We call the `tags()` method in the returned object and then get a dictionary of tag objects, and loop through the tags and call the `get()` method for each tag to print out the 'href' attribute."
   ]
  },
  {
   "cell_type": "markdown",
   "metadata": {},
   "source": [
    "![Alt text](./program-oo.svg)"
   ]
  },
  {
   "cell_type": "markdown",
   "metadata": {},
   "source": [
    "The key here is not to fully understand how this program works but to see how we build a network of interacting objects and orchestrate the movement of information between the objects to create a program. It is also important to note that when you looked at that program several chapters back, you could fully understand what was going on in the program without even realizing that the program was \"orchestrating the movement of data between objects\". Back then it was just lines of code that got the job done."
   ]
  },
  {
   "cell_type": "markdown",
   "metadata": {},
   "source": [
    "## 14.5: Subdividing a Problem - Encapsulation"
   ]
  },
  {
   "cell_type": "markdown",
   "metadata": {},
   "source": [
    "One of the advantages of the object oriented approach is that it can hide complexity. For example, while we need to know how to use the `urllib` and BeautifulSoup code, we do not need to know how those libraries work internally. It allows us to focus on the part of the problem we need to solve and ignore the other parts of the program."
   ]
  },
  {
   "cell_type": "markdown",
   "metadata": {},
   "source": [
    "Ignoring Detail When Using an Object:\n",
    "\n",
    "![Alt text](./program-oo-code.svg)"
   ]
  },
  {
   "cell_type": "markdown",
   "metadata": {},
   "source": [
    "This ability to focus on a part of a program that we care about and ignore the rest of the program is also helpful to the developers of the objects. For example the programmers developing BeautifulSoup do not need to know or care about how we retrieve our HTML page, what parts we want to read or what we plan to do with the data we extract from the web page."
   ]
  },
  {
   "cell_type": "markdown",
   "metadata": {},
   "source": [
    "![Alt text](./program-oo-bs4.svg)"
   ]
  },
  {
   "cell_type": "markdown",
   "metadata": {},
   "source": [
    "Another word we use to capture this idea that we ignore the internal detail of objects we use is \"encapsulation\". This means that we can know how to use an object without knowing how it internally accomplishes what we need done."
   ]
  },
  {
   "cell_type": "markdown",
   "metadata": {},
   "source": [
    "## 14.6: Our First Python Object"
   ]
  },
  {
   "cell_type": "markdown",
   "metadata": {},
   "source": [
    "At its simplest, an object is some code plus data structures that is smaller than a whole program. Defining a function allows us to store a bit of code and give it a name and then later invoke that code using the name of the function.\n",
    "\n",
    "An object can contain a number of functions (which we call \"methods\") as well as data that is used by those functions. We call data items that are part of the object \"attributes\".\n",
    "\n",
    "We use the `class` keyword to define the data and code that will make up each of the objects. The class keyword includes the name of the class and begins an indented block of code where we include the attributes (data) and methods (code)."
   ]
  },
  {
   "cell_type": "code",
   "execution_count": 6,
   "metadata": {},
   "outputs": [
    {
     "name": "stdout",
     "output_type": "stream",
     "text": [
      "So far 1\n",
      "So far 2\n",
      "So far 3\n",
      "So far 4\n"
     ]
    }
   ],
   "source": [
    "class PartyAnimal:\n",
    "   x = 0\n",
    "\n",
    "   def party(self) :\n",
    "     self.x = self.x + 1\n",
    "     print(\"So far\",self.x)\n",
    "\n",
    "an = PartyAnimal()\n",
    "an.party()\n",
    "an.party()\n",
    "an.party()\n",
    "PartyAnimal.party(an)\n",
    "\n",
    "# Code: http://www.py4e.com/code3/party2.py"
   ]
  },
  {
   "cell_type": "markdown",
   "metadata": {},
   "source": [
    "Each method looks like a function, starting with the `def` keyword and consisting of an indented block of code. This example has one attribute (x) and one method (party). The methods have a special first parameter that we name by convention `self`.\n",
    "\n",
    "Much like the `def` keyword does not cause function code to be executed, the `class` keyword does not create an object. Instead, the `class` keyword defines a template indicating what data and code will be contained in each object of type `PartyAnimal`. The class is like a cookie cutter and the objects created using the class are the cookies. You don't put frosting on the cookie cutter, you put frosting on the cookies - and you can put different frosting on each cookie."
   ]
  },
  {
   "cell_type": "markdown",
   "metadata": {},
   "source": [
    "![Alt text](./cookie_cutter_flickr_Didriks.png)"
   ]
  },
  {
   "cell_type": "markdown",
   "metadata": {},
   "source": [
    "### A Class and Two Objects"
   ]
  },
  {
   "cell_type": "markdown",
   "metadata": {},
   "source": [
    "If you continue through the example code, we see the first executable line of code:\n",
    "\n",
    "```python\n",
    "an = PartyAnimal()\n",
    "```\n",
    "\n",
    "This is where we instruct Python to construct (e.g. create) an object or \"instance of the class named PartyAnimal\". It looks like a function call to the class itself and Python constructs the object with the right data and methods and returns the object which is then assigned to the variable `an`. In a way this is quite similar to the following line which we have been using all along:\n",
    "\n",
    "```python\n",
    "counts = dict()\n",
    "```\n",
    "\n",
    "Here we are instructing Python to construct an object using the `dict` template (already present in Python), return the instance of dictionary and assign it to the variable `counts`.\n",
    "\n",
    "When the PartyAnimal class is used to construct an object, the variable `an` is used to point to that object. We use `an` to access the code and data for that particular instance of a PartyAnimal object.\n",
    "\n",
    "Each Partyanimal object/instance contains within it a variable `x` and a method/function named `party`. We call that party method in this line:\n",
    "\n",
    "```python\n",
    "an.party()\n",
    "```\n",
    "\n",
    "When the `party` method is called, the first parameter (which we call by convention `self`) points to the particular instance of the PartyAnimal object that `party` is called from within. Within the `party` method, we see the line:\n",
    "\n",
    "```python\n",
    "self.x = self.x + 1\n",
    "```\n",
    "\n",
    "This syntax using the 'dot' operator is saying 'the x within self'. So each time `party()` is called, the internal `x` value is incremented by 1 and the value is printed out.\n",
    "\n",
    "To help make sense of the difference between a global function and a method within a class/object, the following line is another way to call the `party` method within the `an` object:\n",
    "\n",
    "```python\n",
    "PartyAnimal.party(an)\n",
    "```\n",
    "\n",
    "In this variation, we are accessing the code from within the class and explicitly passing the object pointer `an` in as the first parameter (i.e. `self` within the method). You can think of `an.party()` as shorthand for the above line.\n",
    "\n",
    "When the program executes, it produces the following output:\n",
    "\n",
    "```plaintext\n",
    "So far 1\n",
    "So far 2\n",
    "So far 3\n",
    "So far 4\n",
    "```\n",
    "\n",
    "The object is constructed, and the `party` method is called four times, both incrementing and printing the value for `x` within the `an` object."
   ]
  },
  {
   "cell_type": "markdown",
   "metadata": {},
   "source": [
    "## 14.7: Classes as Types"
   ]
  },
  {
   "cell_type": "markdown",
   "metadata": {},
   "source": [
    "As we have seen, in Python, all variables have a type. And we can use the built-in `dir` function to examine the capabilities of a variable. We can use `type` and `dir` with the classes that we create."
   ]
  },
  {
   "cell_type": "code",
   "execution_count": 7,
   "metadata": {},
   "outputs": [
    {
     "name": "stdout",
     "output_type": "stream",
     "text": [
      "Type <class '__main__.PartyAnimal'>\n",
      "Dir  ['__class__', '__delattr__', '__dict__', '__dir__', '__doc__', '__eq__', '__format__', '__ge__', '__getattribute__', '__gt__', '__hash__', '__init__', '__init_subclass__', '__le__', '__lt__', '__module__', '__ne__', '__new__', '__reduce__', '__reduce_ex__', '__repr__', '__setattr__', '__sizeof__', '__str__', '__subclasshook__', '__weakref__', 'party', 'x']\n",
      "Type <class 'int'>\n",
      "Type <class 'method'>\n"
     ]
    }
   ],
   "source": [
    "class PartyAnimal:\n",
    "   x = 0\n",
    "\n",
    "   def party(self) :\n",
    "     self.x = self.x + 1\n",
    "     print(\"So far\",self.x)\n",
    "\n",
    "an = PartyAnimal()\n",
    "print (\"Type\", type(an))\n",
    "print (\"Dir \", dir(an))\n",
    "print (\"Type\", type(an.x))\n",
    "print (\"Type\", type(an.party))\n",
    "\n",
    "# Code: http://www.py4e.com/code3/party3.py"
   ]
  },
  {
   "cell_type": "markdown",
   "metadata": {},
   "source": [
    "You can see that using the `class` keyword, we have created a new type. From the `dir` output, you can see both the `x` integer attribute and the `party` method are available in the object."
   ]
  },
  {
   "cell_type": "markdown",
   "metadata": {},
   "source": [
    "## 14.8: Many Instances"
   ]
  },
  {
   "cell_type": "markdown",
   "metadata": {},
   "source": [
    "So far, we have been defining a class, making a single object, using that object, and then throwing the object away. But the real power in object oriented happens when we make many instances of our class.\n",
    "\n",
    "When we are making multiple objects from our class, we might want to set up different initial values for each of the objects. We can pass data into the constructors to give each object a different initial value:"
   ]
  },
  {
   "cell_type": "code",
   "execution_count": 8,
   "metadata": {},
   "outputs": [
    {
     "name": "stdout",
     "output_type": "stream",
     "text": [
      "Sally constructed\n",
      "Jim constructed\n",
      "Sally party count 1\n",
      "Jim party count 1\n",
      "Sally party count 2\n"
     ]
    }
   ],
   "source": [
    "class PartyAnimal:\n",
    "   x = 0\n",
    "   name = ''\n",
    "   def __init__(self, nam):\n",
    "     self.name = nam\n",
    "     print(self.name,'constructed')\n",
    "\n",
    "   def party(self) :\n",
    "     self.x = self.x + 1\n",
    "     print(self.name,'party count',self.x)\n",
    "\n",
    "s = PartyAnimal('Sally')\n",
    "j = PartyAnimal('Jim')\n",
    "\n",
    "s.party()\n",
    "j.party()\n",
    "s.party()\n",
    "\n",
    "# Code: http://www.py4e.com/code3/party5.py"
   ]
  },
  {
   "cell_type": "markdown",
   "metadata": {},
   "source": [
    "The constructor has both a `self` parameter that points to the object instance and then additional parameters that are passed into the constructor as the object is being constructed:\n",
    "```python\n",
    "s = PartyAnimal('Sally')\n",
    "```\n",
    "Within the constructor, the line:\n",
    "```python\n",
    "self.name = nam\n",
    "```\n",
    "Copies the parameter that is passed in (`nam`) into the name attribute within the object instance.\n",
    "\n",
    "The output of the program shows that each of the objects (`s` and `j`) contain their own independent copies of `x` and `nam`:\n",
    "```plaintext\n",
    "Sally constructed\n",
    "Sally party count 1\n",
    "Jim constructed\n",
    "Jim party count 1\n",
    "Sally party count 2\n",
    "```"
   ]
  },
  {
   "cell_type": "markdown",
   "metadata": {},
   "source": [
    "## 14.9: Object Lifecycle"
   ]
  },
  {
   "cell_type": "markdown",
   "metadata": {},
   "source": [
    "In the previous examples, we are defining a class (template) and using that class to create an instance of that class (object) and then using the instance. When the program finishes, all the variables are discarded. Usually we don't think much about the creation and destruction of variables, but often as our objects become more complex, we need to take some action within the object to set things up as the object is being constructed and possibly clean things up as the object is being discarded.\n",
    "\n",
    "If we want our object to be aware of these moments of construction and destruction, we add specially named methods to our object:"
   ]
  },
  {
   "cell_type": "code",
   "execution_count": 9,
   "metadata": {},
   "outputs": [
    {
     "name": "stdout",
     "output_type": "stream",
     "text": [
      "I am constructed\n",
      "So far 1\n",
      "So far 2\n",
      "I am destructed 2\n",
      "an contains 42\n"
     ]
    }
   ],
   "source": [
    "class PartyAnimal:\n",
    "   x = 0\n",
    "\n",
    "   def __init__(self):\n",
    "     print('I am constructed')\n",
    "\n",
    "   def party(self) :\n",
    "     self.x = self.x + 1\n",
    "     print('So far',self.x)\n",
    "\n",
    "   def __del__(self):\n",
    "     print('I am destructed', self.x)\n",
    "\n",
    "an = PartyAnimal()\n",
    "an.party()\n",
    "an.party()\n",
    "an = 42\n",
    "print('an contains',an)\n",
    "\n",
    "# Code: http://www.py4e.com/code3/party4.py"
   ]
  },
  {
   "cell_type": "markdown",
   "metadata": {},
   "source": [
    "When this program executes, it produces the following output:\n",
    "```plaintext\n",
    "I am constructed\n",
    "So far 1\n",
    "So far 2\n",
    "I am destructed 2\n",
    "an contains 42\n",
    "```\n",
    "As Python is constructing our object, it calls our `__init__` method to give us a chance to set up some default or initial values for the object. When Python encounters the line:\n",
    "```python\n",
    "an = 42\n",
    "```\n",
    "It actually 'thows our object away' so it can reuse the `an` variable to store the value `42`. Just at the moment when our `an` object is being 'destroyed' our destructor code (`__del__`) is called. We cannot stop our variable from being destroyed, but we can do any necessary cleanup right before our object no longer exists.\n",
    "\n",
    "When developing objects, it is quite common to add a constructor to an object to set in initial values in the object, it is relatively rare to need a destructor for an object."
   ]
  },
  {
   "cell_type": "markdown",
   "metadata": {},
   "source": [
    "## 14.G: Object-Oriented Programming (Glossary)"
   ]
  },
  {
   "cell_type": "markdown",
   "metadata": {},
   "source": [
    "**attribute:**\n",
    "A variable that is part of a class.\n",
    "\n",
    "**class:**\n",
    "A template that can be used to construct an object. Defines the attributes and methods that will make up the object.\n",
    "\n",
    "**child class:**\n",
    "A new class created when a parent class is extended. The child class inherits all of the attributes and methods of the parent class.\n",
    "\n",
    "**constructor:**\n",
    "An optional specially named method (__init__) that is called at the moment when a class is being used to construct an object. Usually this is used to set up initial values for the object.\n",
    "\n",
    "**destructor:**\n",
    "An optional specially named method (__del__) that is called at the moment just before an object is destroyed. Destructors are rarely used.\n",
    "\n",
    "**inheritance:**\n",
    "When we create a new class (child) by extending an existing class (parent). The child class has all the attributes and methods of the parent class plus additional attributes and methods defined by the child class.\n",
    "\n",
    "**method:**\n",
    "A function that is contained within a class and the objects that are constructed from the class. Some object-oriented patterns use 'message' instead of 'method' to describe this concept.\n",
    "\n",
    "**object:**\n",
    "A constructed instance of a class. An object contains all of the attributes and methods that were defined by the class. Some object-oriented documentation uses the term 'instance' interchangeably with 'object'.\n",
    "\n",
    "**parent class:**\n",
    "The class which is being extended to create a new child class. The parent class contributes all of its methods and attributes to the new child class."
   ]
  },
  {
   "cell_type": "markdown",
   "metadata": {},
   "source": [
    "## 14.S: Object-Oriented Programming (Summary)"
   ]
  },
  {
   "cell_type": "markdown",
   "metadata": {},
   "source": [
    "This is a very quick introduction to **object-oriented programming** that focuses mainly on terminology and the syntax of defining and using objects. Let's quickly review the code that we looked at in the beginning of the chapter. At this point you should fully understand what is going on."
   ]
  },
  {
   "cell_type": "code",
   "execution_count": 10,
   "metadata": {},
   "outputs": [
    {
     "name": "stdout",
     "output_type": "stream",
     "text": [
      "chuck\n",
      "chuck\n",
      "chuck\n"
     ]
    }
   ],
   "source": [
    "stuff = list()\n",
    "stuff.append('python')\n",
    "stuff.append('chuck')\n",
    "stuff.sort()\n",
    "print (stuff[0])\n",
    "\n",
    "print (stuff.__getitem__(0))\n",
    "print (list.__getitem__(stuff,0))\n",
    "\n",
    "# Code: http://www.py4e.com/code3/party1.py"
   ]
  },
  {
   "cell_type": "markdown",
   "metadata": {},
   "source": [
    "The first line constructs a `list` *object*. When Python creates the `list` object, it calls the *constructor* method (named `__init__`) to set up the internal data attributes that will be used to store the list data. Due to *encapsulation* we neither need to know, nor need to care about how these internal data attributes are arranged.\n",
    "\n",
    "We are not passing any parameters to the *constructor* and when the constructor returns, we use the variable `stuff` to point to the returned instance of the `list` class.\n",
    "\n",
    "The second and third lines are calling the `append` method with one parameter to add a new item at the end of the list by updating the attributes within `stuff`. Then in the fourth line, we call the `sort` method with no parameters to sort the data within the `stuff` object.\n",
    "\n",
    "Then we print out the first item in the list using the square brackets which are a shortcut to calling the `__getitem__` method within the `stuff` *object*. And this is equivalent to calling the `__getitem__` method in the `list` *class* passing the stuff object in as the first parameter and the position we are looking for as the second parameter.\n",
    "\n",
    "At the end of the program the `stuff` object is discarded but not before calling the *destructor* (named `__del__`) so the object can clean up any loose ends as necessary.\n",
    "\n",
    "Those are the basics and terminology of object oriented programming. There are many additional details as to how to best use object oriented approaches when developing large applications and libraries that are beyond the scope of this chapter."
   ]
  },
  {
   "cell_type": "markdown",
   "metadata": {},
   "source": [
    "## 14.10: Inheritance"
   ]
  },
  {
   "cell_type": "markdown",
   "metadata": {},
   "source": [
    "Another powerful feature of object oriented programming is the ability to create a new class by extending an existing class. When extending a class, we call the original class the 'parent class' and the new class as the 'child class'.\n",
    "\n",
    "For this example, we will move our `PartyAnimal` class into its own file:"
   ]
  },
  {
   "cell_type": "code",
   "execution_count": 11,
   "metadata": {},
   "outputs": [],
   "source": [
    "class PartyAnimal:\n",
    "   x = 0\n",
    "   name = ''\n",
    "   def __init__(self, nam):\n",
    "     self.name = nam\n",
    "     print(self.name,'constructed')\n",
    "\n",
    "   def party(self) :\n",
    "     self.x = self.x + 1\n",
    "     print(self.name,'party count',self.x)\n",
    "\n",
    "# Code: http://www.py4e.com/code3/party.py"
   ]
  },
  {
   "cell_type": "markdown",
   "metadata": {},
   "source": [
    "Then, we can 'import' the `PartyAnimal` class in a new file and extend it as follows:"
   ]
  },
  {
   "cell_type": "code",
   "execution_count": null,
   "metadata": {},
   "outputs": [],
   "source": [
    "from party import PartyAnimal\n",
    "\n",
    "class CricketFan(PartyAnimal):\n",
    "   points = 0\n",
    "   def six(self):\n",
    "      self.points = self.points + 6\n",
    "      self.party()\n",
    "      print(self.name,\"points\",self.points)\n",
    "\n",
    "s = PartyAnimal(\"Sally\")\n",
    "s.party()\n",
    "j = CricketFan(\"Jim\")\n",
    "j.party()\n",
    "j.six()\n",
    "print(dir(j))\n",
    "\n",
    "# Code: http://www.py4e.com/code3/party6.py"
   ]
  }
 ],
 "metadata": {
  "kernelspec": {
   "display_name": "base",
   "language": "python",
   "name": "python3"
  },
  "language_info": {
   "codemirror_mode": {
    "name": "ipython",
    "version": 3
   },
   "file_extension": ".py",
   "mimetype": "text/x-python",
   "name": "python",
   "nbconvert_exporter": "python",
   "pygments_lexer": "ipython3",
   "version": "3.9.18"
  }
 },
 "nbformat": 4,
 "nbformat_minor": 2
}
