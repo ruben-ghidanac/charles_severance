{
 "cells": [
  {
   "cell_type": "markdown",
   "metadata": {},
   "source": [
    "# 2: Variables, Expressions, and Statements"
   ]
  },
  {
   "cell_type": "markdown",
   "metadata": {},
   "source": [
    "## 2.1: Values and Types"
   ]
  },
  {
   "cell_type": "markdown",
   "metadata": {},
   "source": [
    "A value is one of the basic things a program works with, like a letter or a number. The values we have seen so far are `1`, `2`, and `\"Hello, World!\"`\n",
    "\n",
    "These values belong to different types: `2` is an **integer**, and `\"Hello, World!\"` is a **string**, so called because it contains a \"string\" of letters. You (and the interpreter) can identify strings because they are enclosed in quotation marks.\n",
    "\n",
    "The print statement also works for integers. We use the python command to start the interpreter.\n",
    "\n",
    "```text\n",
    "    >>> print(4)\n",
    "    4\n",
    "```\n",
    "\n",
    "If you are not sure what type a value has, the interpreter can tell you.\n",
    "```text\n",
    "    >>> type('Hello, World!')\n",
    "    <class 'str'>\n",
    "    >>> type(17)\n",
    "    <class 'int'>\n",
    "```\n",
    "\n",
    "Not surprisingly, strings belong to the type `str` and integers belong to the type `int`. Less obviously, numbers with a decimal point belong to a type called `float`, because these numbers are represented in a format called **floating point**.\n",
    "```text\n",
    "    >>> type(3.2)\n",
    "    <class 'float'>\n",
    "```\n",
    "\n",
    "What about values like `\"17\"` and `\"3.2\"`? They look like numbers, but they are in quotation marks like strings.\n",
    "```text\n",
    "    >>> type('17')\n",
    "    <class 'str'>\n",
    "    >>> type('3.2')\n",
    "    <class 'str'>\n",
    "```\n",
    "They're strings.\n",
    "\n",
    "When you type a large integer, you might be tempted to use commas between groups of three digits, as in `1,000,000`. This is not a legal integer in Python, but it is legal:\n",
    "```text\n",
    "    >>> print(1,000,000)\n",
    "    1 0 0\n",
    "```\n",
    "Well, that's not what we expected at all! Python interprets `1,000,000` as a comma-separated sequence of integers, which it prints with spaces between.\n",
    "\n",
    "This is the first example we have seen of a semantic error: the code runs without producing an error message, but it doesn't do the \"right\" thing."
   ]
  },
  {
   "cell_type": "markdown",
   "metadata": {},
   "source": [
    "## 2.2: Variables"
   ]
  },
  {
   "cell_type": "markdown",
   "metadata": {},
   "source": [
    "One of the most powerful features of a programming language is the ability to manipulate *variables*. A variable is a name that refers to a value.\n",
    "\n",
    "An *assignment* statement creates new variables and gives them values:\n",
    "\n",
    "```text\n",
    "    >>> message = 'And now for something completely different'\n",
    "    >>> n = 17\n",
    "    >>> pi = 3.1415926535897931\n",
    "```\n",
    "This example makes three assignments. The first assigns a string to a new variable named `message`; the second assigns the integer `17` to `n`; the third assigns the (approximate) value of `π` to `pi`.\n",
    "\n",
    "To display the value of a variable, you can use a print statement:\n",
    "\n",
    "```text\n",
    "    >>> print(n)\n",
    "    17\n",
    "    >>> print(pi)\n",
    "    3.141592653589793\n",
    "```\n",
    "The type of a variable is the type of the value it refers to.\n",
    "\n",
    "```text    \n",
    "    >>> type(message)\n",
    "    <class 'str'>\n",
    "    >>> type(n)\n",
    "    <class 'int'>\n",
    "    >>> type(pi)\n",
    "    <class 'float'>\n",
    "```"
   ]
  },
  {
   "cell_type": "markdown",
   "metadata": {},
   "source": [
    "## 2.3: Variable names and Keywords"
   ]
  },
  {
   "cell_type": "markdown",
   "metadata": {},
   "source": [
    "Programmers generally choose names for their variables that are meaningful and document what the variable is used for.\n",
    "\n",
    "Variable names can be arbitrarily long. They can contain both letters and numbers, but they cannot start with a number. It is legal to use uppercase letters, but it is a good idea to begin variable names with a lowercase letter (you'll see why later).\n",
    "\n",
    "The underscore character (`_`) can appear in a name. It is often used in names with multiple words, such as `my_name` or `airspeed_of_unladen_swallow`. Variable names can start with an underscore character, but we generally avoid doing this unless we are writing library code for others to use.\n",
    "\n",
    "If you give a variable an illegal name, you get a syntax error:\n",
    "\n",
    "```text\n",
    "    >>> 76trombones = 'big parade'\n",
    "    SyntaxError: invalid syntax\n",
    "    >>> more@ = 1000000\n",
    "    SyntaxError: invalid syntax\n",
    "    >>> class = 'Advanced Theoretical Zymurgy'\n",
    "    SyntaxError: invalid syntax\n",
    "```\n",
    "`76trombones` is illegal because it begins with a number. `more@` is illegal because it contains an illegal character, `@`. But what's wrong with `class`?\n",
    "\n",
    "It turns out that `class` is one of Python's keywords. The interpreter uses keywords to recognize the structure of the program, and they cannot be used as variable names.\n",
    "\n",
    "Python reserves 33 keywords:\n",
    "```text\n",
    "    and       del       from      None      True\n",
    "    as        elif      global    nonlocal  try\n",
    "    assert    else      if        not       while\n",
    "    break     except    import    or        with\n",
    "    class     False     in        pass      yield\n",
    "    continue  finally   is        raise\n",
    "    def       for       lambda    return\n",
    "```\n",
    "You might want to keep this list handy. If the interpreter complains about one of your variable names and you don't know why, see if it is on this list."
   ]
  },
  {
   "cell_type": "markdown",
   "metadata": {},
   "source": [
    "## 2.4: Statements"
   ]
  },
  {
   "cell_type": "markdown",
   "metadata": {},
   "source": [
    "A *statement* is a unit of code that the Python interpreter can execute. We have seen two kinds of statements: expression statement with \"print\" and assignment.\n",
    "\n",
    "When you type a statement in interactive mode, the interpreter executes it and displays the result, if there is one.\n",
    "\n",
    "A script usually contains a sequence of statements. If there is more than one statement, the results appear one at a time as the statements execute.\n",
    "\n",
    "For the script below, notice that the assignment statement (in this case x = 2) produces no output."
   ]
  },
  {
   "cell_type": "code",
   "execution_count": 1,
   "metadata": {},
   "outputs": [
    {
     "name": "stdout",
     "output_type": "stream",
     "text": [
      "1\n",
      "2\n"
     ]
    }
   ],
   "source": [
    "print(1)\n",
    "x = 2\n",
    "print(x)"
   ]
  },
  {
   "cell_type": "markdown",
   "metadata": {},
   "source": [
    "## 2.5: Operators and Operands"
   ]
  },
  {
   "cell_type": "markdown",
   "metadata": {},
   "source": [
    "Operators are special symbols that represent computations like addition and multiplication. The values the operator is applied to are called operands.\n",
    "\n",
    "The operators `+`, `-`, `*`, `/`, and `**` perform addition, subtraction, multiplication, division, and exponentiation, as in the following examples:\n",
    "```text\n",
    "    20+32   hour-1   hour*60+minute   minute/60   5**2   (5+9)*(15-7)\n",
    "```\n",
    "There has been a change in the division operator between Python 2.x and Python 3.x. In Python 3.x, the result of this division is a floating point result:\n",
    "```text\n",
    "    >>> minute = 59\n",
    "    >>> minute/60\n",
    "    0.9833333333333333\n",
    "```\n",
    "The division operator in Python 2.0 would divide two integers and truncate the result to an integer:\n",
    "```text\n",
    "    >>> minute = 59\n",
    "    >>> minute/60\n",
    "    0\n",
    "```    \n",
    "To obtain the same answer in Python 3.0 use floored ( // integer) division.\n",
    "```text\n",
    "    >>> minute = 59\n",
    "    >>> minute//60\n",
    "    0\n",
    "```\n",
    "In Python 3.0 integer division functions much more as you would expect if you entered the expression on a calculator."
   ]
  },
  {
   "cell_type": "markdown",
   "metadata": {},
   "source": [
    "## 2.6: Expressions"
   ]
  },
  {
   "cell_type": "markdown",
   "metadata": {},
   "source": [
    "An *expression* is a combination of values, variables, and operators. A value all by itself is considered an expression, and so is a variable, so the following are all legal expressions (assuming that the variable `x` has been assigned a value):\n",
    "```text\n",
    "    17\n",
    "    x\n",
    "    x + 17\n",
    "```\n",
    "If you type an expression in interactive mode, the interpreter evaluates it and displays the result:\n",
    "```text\n",
    "    >>> 1 + 1\n",
    "    2\n",
    "```\n",
    "But in a script, an expression all by itself doesn't do anything! This is a common source of confusion for beginners."
   ]
  },
  {
   "cell_type": "markdown",
   "metadata": {},
   "source": [
    "### Exercise 1"
   ]
  },
  {
   "cell_type": "markdown",
   "metadata": {},
   "source": [
    "Type the following statements in the Python interpreter to see what they do:\n",
    "```text\n",
    "    5\n",
    "    x = 5\n",
    "    x + 1\n",
    "```"
   ]
  },
  {
   "cell_type": "code",
   "execution_count": 2,
   "metadata": {},
   "outputs": [
    {
     "data": {
      "text/plain": [
       "6"
      ]
     },
     "execution_count": 2,
     "metadata": {},
     "output_type": "execute_result"
    }
   ],
   "source": [
    "5\n",
    "x = 5\n",
    "x + 1"
   ]
  },
  {
   "cell_type": "markdown",
   "metadata": {},
   "source": [
    "## 2.7: Order of Operations"
   ]
  },
  {
   "cell_type": "markdown",
   "metadata": {},
   "source": [
    "When more than one operator appears in an expression, the order of evaluation depends on the *rules of precedence*. For mathematical operators, Python follows mathematical convention. The acronym *PEMDAS* is a useful way to remember the rules:\n",
    "\n",
    "- Parentheses have the highest precedence and can be used to force an expression to evaluate in the order you want. Since expressions in parentheses are evaluated first, `2 * (3-1)` is 4, and `(1+1)**(5-2)` is 8. You can also use parentheses to make an expression easier to read, as in `(minute * 100) / 60`, even if it doesn't change the result.\n",
    "\n",
    "- Exponentiation has the next highest precedence, so `2**1+1` is 3, not 4, and `3*1**3` is 3, not 27.\n",
    "\n",
    "- Multiplication and Division have the same precedence, which is higher than Addition and Subtraction, which also have the same precedence. So `2*3-1` is 5, not 4, and `6+4/2` is 8.0, not 5.\n",
    "\n",
    "- Operators with the same precedence are evaluated from left to right. So the expression `5-3-1` is 1, not 3, because the `5-3` happens first and then `1` is subtracted from `2`.\n",
    "\n",
    "When in doubt, always put parentheses in your expressions to make sure the computations are performed in the order you intend."
   ]
  },
  {
   "cell_type": "markdown",
   "metadata": {},
   "source": [
    "## 2.8: Modulus Operator"
   ]
  },
  {
   "cell_type": "markdown",
   "metadata": {},
   "source": [
    "The *modulus operator* works on integers and yields the remainder when the first operand is divided by the second. In Python, the modulus operator is a percent sign (`%`). The syntax is the same as for other operators:"
   ]
  },
  {
   "cell_type": "code",
   "execution_count": 3,
   "metadata": {},
   "outputs": [
    {
     "name": "stdout",
     "output_type": "stream",
     "text": [
      "2\n",
      "1\n"
     ]
    }
   ],
   "source": [
    "quotient = 7 // 3\n",
    "print(quotient)\n",
    "\n",
    "remainder = 7 % 3\n",
    "print(remainder)"
   ]
  },
  {
   "cell_type": "markdown",
   "metadata": {},
   "source": [
    "So 7 divided by 3 is 2 with 1 left over.\n",
    "\n",
    "The modulus operator turns out to be surprisingly useful. For example, you can check whether one number is divisible by another: if `x % y` is zero, then `x` is divisible by `y`.\n",
    "\n",
    "You can also extract the right-most digit or digits from a number. For example, `x % 10` yields the right-most digit of `x` (in base 10). Similarly, `x % 100` yields the last two digits."
   ]
  },
  {
   "cell_type": "markdown",
   "metadata": {},
   "source": [
    "Another explination of the above:\n",
    "\n",
    "1. **Float Division** (`/`)\n",
    "\n",
    "- Operator: `/`\n",
    "- Example: `100 / 10`\n",
    "- Result: `10.0`\n",
    "\n",
    "    This performs standard division and always returns a float (decimal) result, even if the numbers divide evenly.\n",
    "\n",
    "\n",
    "2. **Integer Division** (`//`)\n",
    "\n",
    "- Operator: `//`\n",
    "- Example: `100 // 10`\n",
    "- Result: `10`\n",
    "\n",
    "    This performs division and rounds down to the nearest integer. It always returns an integer result.\n",
    "\n",
    "\n",
    "3. **Modulo Operation** (`%`)\n",
    "\n",
    "- Operator: `%`\n",
    "- Example: `100 % 10`\n",
    "- Result: `0`\n",
    "\n",
    "    This returns the remainder of the division operation.\n",
    "\n",
    "\n",
    "\n",
    "**Key differences:**\n",
    "\n",
    "- The `/` operator gives the most precise result but always as a *float result*.\n",
    "\n",
    "- The `//` operator is useful when you need an *integer result* and don't care about the fractional part.\n",
    "\n",
    "- The `%` operator is used to find **_remainders_**, which is useful in many programming scenarios, like *checking for even/odd numbers* or implementing cyclic behaviors.\n",
    "\n",
    "In the given example, all operations yield whole numbers because 100 is perfectly divisible by 10. If you used numbers that don't divide evenly, you'd see more distinct differences in the results."
   ]
  },
  {
   "cell_type": "code",
   "execution_count": 25,
   "metadata": {},
   "outputs": [
    {
     "name": "stdout",
     "output_type": "stream",
     "text": [
      "Float division: 100 / 10 = 10.0\n",
      "Integer division: 100 // 10 = 10\n",
      "Modulo Operation: 100 % 10 = 0\n",
      "\n",
      "\n",
      "Float division: 99 / 10 = 9.9\n",
      "Integer division: 99 // 10 = 9\n",
      "Modulo Operation: 99 % 10 = 9\n",
      "\n",
      "\n",
      "Float division: 999 / 10 = 99.9\n",
      "Integer division: 999 // 10 = 99\n",
      "Modulo Operation: 999 % 10 = 9\n",
      "\n",
      "\n",
      "Float division: 990 / 10 = 99.0\n",
      "Integer division: 990 // 10 = 99\n",
      "Modulo Operation: 990 % 10 = 0\n",
      "\n",
      "\n",
      "Float division: 990 / 100 = 9.9\n",
      "Integer division: 990 // 100 = 9\n",
      "Modulo Operation: 990 % 100 = 90\n"
     ]
    }
   ],
   "source": [
    "print(\"Float division: 100 / 10 =\", 100/10)\n",
    "print(\"Integer division: 100 // 10 =\", 100 // 10)\n",
    "print(\"Modulo Operation: 100 % 10 =\", 100 % 10)\n",
    "\n",
    "print(\"\\n\")\n",
    "print(\"Float division: 99 / 10 =\", 99/10)\n",
    "print(\"Integer division: 99 // 10 =\", 99 // 10)\n",
    "print(\"Modulo Operation: 99 % 10 =\", 99 % 10)\n",
    "\n",
    "print(\"\\n\")\n",
    "print(\"Float division: 999 / 10 =\", 999/10)\n",
    "print(\"Integer division: 999 // 10 =\", 999 // 10)\n",
    "print(\"Modulo Operation: 999 % 10 =\", 999 % 10)\n",
    "\n",
    "print(\"\\n\")\n",
    "print(\"Float division: 990 / 10 =\", 990/10)\n",
    "print(\"Integer division: 990 // 10 =\", 990 // 10)\n",
    "print(\"Modulo Operation: 990 % 10 =\", 990 % 10)\n",
    "\n",
    "print(\"\\n\")\n",
    "print(\"Float division: 990 / 100 =\", 990/100)\n",
    "print(\"Integer division: 990 // 100 =\", 990 // 100)\n",
    "print(\"Modulo Operation: 990 % 100 =\", 990 % 100)"
   ]
  },
  {
   "cell_type": "markdown",
   "metadata": {},
   "source": [
    "## 2.9: String Operations"
   ]
  },
  {
   "cell_type": "markdown",
   "metadata": {},
   "source": [
    "The `+` operator works with strings, but it is not addition in the mathematical sense. Instead it performs *concatenation*, which means joining the strings by linking them end to end. For example:"
   ]
  },
  {
   "cell_type": "code",
   "execution_count": 26,
   "metadata": {},
   "outputs": [
    {
     "name": "stdout",
     "output_type": "stream",
     "text": [
      "25\n",
      "100150\n"
     ]
    }
   ],
   "source": [
    "first = 10\n",
    "second = 15\n",
    "print(first+second)\n",
    "\n",
    "first = '100'\n",
    "second = '150'\n",
    "print(first + second)"
   ]
  },
  {
   "cell_type": "markdown",
   "metadata": {},
   "source": [
    "## 2.E: Variables, Expressions, and Statements (Exercises)"
   ]
  },
  {
   "cell_type": "markdown",
   "metadata": {},
   "source": [
    "### Exercise 2"
   ]
  },
  {
   "cell_type": "markdown",
   "metadata": {},
   "source": [
    "Write a program that uses `input` to prompt a user for their name and then welcomes them.\n",
    "\n",
    "```text\n",
    "    Enter your name: Chuck\n",
    "    Hello Chuck\n",
    "```"
   ]
  },
  {
   "cell_type": "code",
   "execution_count": null,
   "metadata": {},
   "outputs": [],
   "source": [
    "# Use this space to write and run your code"
   ]
  },
  {
   "cell_type": "markdown",
   "metadata": {},
   "source": [
    "### Exercise 3"
   ]
  },
  {
   "cell_type": "markdown",
   "metadata": {},
   "source": [
    "Write a program to prompt the user for hours and rate per hour to compute gross pay.\n",
    "\n",
    "```text\n",
    "    Enter Hours: 35\n",
    "    Enter Rate: 2.75\n",
    "    Pay: 96.25\n",
    "```\n",
    "\n",
    "We won't worry about making sure our pay has exactly two digits after the decimal place for now. If you want, you can play with the built-in Python round function to properly `round` the resulting pay to two decimal places."
   ]
  },
  {
   "cell_type": "code",
   "execution_count": null,
   "metadata": {},
   "outputs": [],
   "source": [
    "# Use this space to write and run your code\n",
    "# Save this code for a later exercise!"
   ]
  },
  {
   "cell_type": "markdown",
   "metadata": {},
   "source": [
    "### Exercise 4"
   ]
  },
  {
   "cell_type": "markdown",
   "metadata": {},
   "source": [
    "Assume that we execute the following assignment statements:\n",
    "\n",
    "```text\n",
    "    width = 17\n",
    "    height = 12.0\n",
    "```\n",
    "\n",
    "For each of the following expressions, write the value of the expression and the type (of the value of the expression).\n",
    "\n",
    "1. `width//2`\n",
    "2. `width/2.0`\n",
    "3. `height/3`\n",
    "4. `1 + 2 * 5`"
   ]
  },
  {
   "cell_type": "code",
   "execution_count": null,
   "metadata": {},
   "outputs": [],
   "source": [
    "# Use this space to check your answers"
   ]
  },
  {
   "cell_type": "markdown",
   "metadata": {},
   "source": [
    "### Exercise 5"
   ]
  },
  {
   "cell_type": "markdown",
   "metadata": {},
   "source": [
    "Write a program which prompts the user for a Celsius temperature, convert the temperature to Fahrenheit, and print out the converted temperature."
   ]
  },
  {
   "cell_type": "code",
   "execution_count": null,
   "metadata": {},
   "outputs": [],
   "source": [
    "# Use this space to write and run your code"
   ]
  },
  {
   "cell_type": "markdown",
   "metadata": {},
   "source": [
    "## 2.G: Glossary"
   ]
  },
  {
   "cell_type": "markdown",
   "metadata": {},
   "source": [
    "- **assignment:** A statement that assigns a value to a variable.\n",
    "\n",
    "- **concatenate:** To join two operands end to end.\n",
    "\n",
    "- **comment:** Information in a program that is meant for other programmers (or anyone reading the source code) and has no effect on the execution of the program.\n",
    "\n",
    "- **evaluate:** To simplify an expression by performing the operations in order to yield a single value.\n",
    "\n",
    "- **expression:** A combination of variables, operators, and values that represents a single result value.\n",
    "\n",
    "- **floating point:** A type that represents numbers with fractional parts.\n",
    "\n",
    "- **integer:** A type that represents whole numbers.\n",
    "\n",
    "- **keyword:** A reserved word that is used by the compiler to parse a program; you cannot use keywords like `if`, `def`, and `while` as variable names.\n",
    "\n",
    "- **mnemonic:** A memory aid. We often give variables mnemonic names to help us remember what is stored in the variable.\n",
    "\n",
    "- **modulus operator:** An operator, denoted with a percent sign (`%`), that works on integers and yields the remainder when one number is divided by another.\n",
    "\n",
    "- **operand:** One of the values on which an operator operates.\n",
    "\n",
    "- **operator:** A special symbol that represents a simple computation like addition, multiplication, or string concatenation.\n",
    "\n",
    "- **rules of precedence:** The set of rules governing the order in which expressions involving multiple operators and operands are evaluated.\n",
    "\n",
    "- **statement:** A section of code that represents a command or action. So far, the statements we have seen are assignments and print expression statement.\n",
    "\n",
    "- **string:** A type that represents sequences of characters.\n",
    "\n",
    "- **type:** A category of values. The types we have seen so far are integers (type `int`), floating-point numbers (type `float`), and strings (type `str`).\n",
    "\n",
    "- **value:** One of the basic units of data, like a number or string, that a program manipulates.\n",
    "\n",
    "- **variable:** A name that refers to a value.\n"
   ]
  },
  {
   "cell_type": "markdown",
   "metadata": {},
   "source": [
    "## 2.10: Asking the user for input"
   ]
  },
  {
   "cell_type": "markdown",
   "metadata": {},
   "source": [
    "Sometimes we would like to take the value for a variable from the user via their keyboard. Python provides a built-in function called `input` that gets input from the keyboard. When this function is called, the program stops and waits for the user to type something. When the user presses `Return` or `Enter`, the program resumes and `input` returns what the user typed as a string.\n",
    "\n",
    "```text\n",
    "    >>> inp = input()\n",
    "    Some silly stuff\n",
    "    >>> print(inp)\n",
    "    Some silly stuff\n",
    "```\n",
    "\n",
    "Before getting input from the user, it is a good idea to print a prompt telling the user what to input. You can pass a string to `input` to be displayed to the user before pausing for input:"
   ]
  },
  {
   "cell_type": "code",
   "execution_count": 27,
   "metadata": {},
   "outputs": [
    {
     "name": "stdout",
     "output_type": "stream",
     "text": [
      "Ruben\n"
     ]
    }
   ],
   "source": [
    "name = input('What is your name?\"..string.escape(\"\\n\")..\"')\n",
    "print(name)"
   ]
  },
  {
   "cell_type": "markdown",
   "metadata": {},
   "source": [
    "The sequence `\\n` at the end of the prompt represents a newline, which is a special character that causes a line break. That's why the user's input appears below the prompt.\n",
    "\n",
    "If you expect the user to type an integer, you can try to convert the return value to `int` using the `int()` function:"
   ]
  },
  {
   "cell_type": "code",
   "execution_count": 28,
   "metadata": {},
   "outputs": [
    {
     "data": {
      "text/plain": [
       "25"
      ]
     },
     "execution_count": 28,
     "metadata": {},
     "output_type": "execute_result"
    }
   ],
   "source": [
    "prompt = 'What...is the airspeed velocity of an unladen swallow?\"..string.escape(\"\\n\")..\"'\n",
    "speed = input(prompt)\n",
    "\n",
    "int(speed)\n",
    "\n",
    "int(speed) + 5"
   ]
  },
  {
   "cell_type": "markdown",
   "metadata": {},
   "source": [
    "But if the user types something other than a string of digits, you get an error:\n",
    "```text\n",
    "    >>> speed = input(prompt)\n",
    "    What...is the airspeed velocity of an unladen swallow?\n",
    "    What do you mean, an African or a European swallow?\n",
    "    >>> int(speed)\n",
    "    ValueError: invalid literal for int() with base 10:\n",
    "```\n",
    "\n",
    "We will see how to handle this kind of error later."
   ]
  },
  {
   "cell_type": "markdown",
   "metadata": {},
   "source": [
    "## 2.11: Comments"
   ]
  },
  {
   "cell_type": "markdown",
   "metadata": {},
   "source": [
    "As programs get bigger and more complicated, they get more difficult to read. Formal languages are dense, and it is often difficult to look at a piece of code and figure out what it is doing, or why.\n",
    "\n",
    "For this reason, it is a good idea to add notes to your programs to explain in natural language what the program is doing. These notes are called *comments*, and in Python they start with the `#` symbol:\n",
    "```python\n",
    "    # compute the percentage of the hour that has elapsed\n",
    "    percentage = (minute * 100) / 60\n",
    "```\n",
    "\n",
    "In this case, the comment appears on a line by itself. You can also put comments at the end of a line:\n",
    "```python\n",
    "    percentage = (minute * 100) / 60     # percentage of an hour\n",
    "```\n",
    "\n",
    "Everything from the `\\#` to the end of the line is ignored; it has no effect on the program.\n",
    "\n",
    "Comments are most useful when they document non-obvious features of the code. It is reasonable to assume that the reader can figure out *what* the code does; it is much more useful to explain *why*.\n",
    "\n",
    "This comment is redundant with the code and useless:\n",
    "```python\n",
    "    v = 5     # assign 5 to v\n",
    "```\n",
    "\n",
    "This comment contains useful information that is not in the code:\n",
    "```python\n",
    "    v = 5     # velocity in meters/second.\n",
    "```\n",
    "\n",
    "Good variable names can reduce the need for comments, but long names can make complex expressions hard to read, so there is a trade-off.\n",
    "\n"
   ]
  },
  {
   "cell_type": "markdown",
   "metadata": {},
   "source": [
    "## 2.12: Choosing Mnemonic Variable Names"
   ]
  },
  {
   "cell_type": "markdown",
   "metadata": {},
   "source": [
    "As long as you follow the simple rules of variable naming, and avoid reserved words, you have a lot of choice when you name your variables. In the beginning, this choice can be confusing both when you read a program and when you write your own programs. For example, the following three programs are identical in terms of what they accomplish, but very different when you read them and try to understand them."
   ]
  },
  {
   "cell_type": "code",
   "execution_count": 29,
   "metadata": {},
   "outputs": [
    {
     "name": "stdout",
     "output_type": "stream",
     "text": [
      "437.5\n"
     ]
    }
   ],
   "source": [
    "a = 35.0\n",
    "b = 12.50\n",
    "c = a * b\n",
    "print(c)"
   ]
  },
  {
   "cell_type": "code",
   "execution_count": 30,
   "metadata": {},
   "outputs": [
    {
     "name": "stdout",
     "output_type": "stream",
     "text": [
      "437.5\n"
     ]
    }
   ],
   "source": [
    "hours = 35.0\n",
    "rate = 12.50\n",
    "pay = hours * rate\n",
    "print(pay)"
   ]
  },
  {
   "cell_type": "code",
   "execution_count": 31,
   "metadata": {},
   "outputs": [
    {
     "name": "stdout",
     "output_type": "stream",
     "text": [
      "437.5\n"
     ]
    }
   ],
   "source": [
    "x1q3z9ahd = 35.0\n",
    "x1q3z9afd = 12.50\n",
    "x1q3p9afd = x1q3z9ahd * x1q3z9afd\n",
    "print(x1q3p9afd)"
   ]
  },
  {
   "cell_type": "markdown",
   "metadata": {},
   "source": [
    "The Python interpreter sees all three of these programs as exactly the *same* but humans see and understand these programs quite differently. Humans will most quickly understand the *intent* of the second program because the programmer has chosen variable names that reflect their intent regarding what data will be stored in each variable.\n",
    "\n",
    "We call these wisely chosen variable names \"mnemonic variable names\". The word *mnemonic* means \"memory aid\". We choose mnemonic variable names to help us remember why we created the variable in the first place.\n",
    "\n",
    "While this all sounds great, and it is a very good idea to use mnemonic variable names, mnemonic variable names can get in the way of a beginning programmer's ability to parse and understand code. This is because beginning programmers have not yet memorized the reserved words (there are only 33 of them) and sometimes variables with names that are too descriptive start to look like part of the language and not just well-chosen variable names.\n",
    "\n",
    "Take a quick look at the following Python sample code which loops through some data. We will cover loops soon, but for now try to just puzzle through what this means:\n",
    "\n",
    "```python\n",
    "    for word in words:\n",
    "        print(word)\n",
    "```\n",
    "\n",
    "What is happening here? Which of the tokens (for, word, in, etc.) are reserved words and which are just variable names? Does Python understand at a fundamental level the notion of words? Beginning programmers have trouble separating what parts of the code `must` be the same as this example and what parts of the code are simply choices made by the programmer.\n",
    "\n",
    "The following code is equivalent to the above code:\n",
    "```python\n",
    "    for slice in pizza:\n",
    "        print(slice)\n",
    "```\n",
    "\n",
    "It is easier for the beginning programmer to look at this code and know which parts are reserved words defined by Python and which parts are simply variable names chosen by the programmer. It is pretty clear that Python has no fundamental understanding of pizza and slices and the fact that a pizza consists of a set of one or more slices.\n",
    "\n",
    "But if our program is truly about reading data and looking for words in the data, `pizza` and `slice` are very un-mnemonic variable names. Choosing them as variable names distracts from the meaning of the program.\n",
    "\n",
    "After a pretty short period of time, you will know the most common reserved words and you will start to see the reserved words jumping out at you:\n",
    "```python\n",
    "    for word in words:\n",
    "        print word\n",
    "```\n",
    "\n",
    "The parts of the code that are defined by Python (`for`, `in`, `print`, and  `:`) are in bold and the programmer-chosen variables (`word` and `words`) are not in bold. Many text editors are aware of Python syntax and will color reserved words differently to give you clues to keep your variables and reserved words separate. After a while you will begin to read Python and quickly determine what is a variable and what is a reserved word."
   ]
  },
  {
   "cell_type": "markdown",
   "metadata": {},
   "source": [
    "## 2.13: Debugging"
   ]
  },
  {
   "cell_type": "markdown",
   "metadata": {},
   "source": [
    "At this point, the syntax error you are most likely to make is an illegal variable name, like `class` and `yield`, which are keywords, or `odd~job` and `US$`, which contain illegal characters.\n",
    "\n",
    "If you put a space in a variable name, Python thinks it is two operands without an operator:\n",
    "\n",
    "```text\n",
    "    >>> bad name = 5\n",
    "    SyntaxError: invalid syntax\n",
    "```\n",
    "\n",
    "```text\n",
    "    >>> month = 09\n",
    "    File \"<stdin>\", line 1\n",
    "        month = 09\n",
    "                ^\n",
    "    SyntaxError: invalid token\n",
    "```\n",
    "\n",
    "For syntax errors, the error messages don't help much. The most common messages are `SyntaxError: invalid syntax` and `SyntaxError: invalid token`, neither of which is very informative.\n",
    "\n",
    "The runtime error you are most likely to make is a \"use before def;\" that is, trying to use a variable before you have assigned a value. This can happen if you spell a variable name wrong:\n",
    "```text\n",
    "    >>> principal = 327.68\n",
    "    >>> interest = principle * rate\n",
    "    NameError: name 'principle' is not defined\n",
    "```\n",
    "\n",
    "Variables names are case sensitive, so `LaTeX` is not the same as `latex`.\n",
    "\n",
    "At this point, the most likely cause of a semantic error is the order of operations. For example, to evaluate `1/2π`, you might be tempted to write\n",
    "```text\n",
    "    >>> 1.0 / 2.0 * pi\n",
    "```\n",
    "\n",
    "But the division happens first, so you would get `π/2`, which is not the same thing! There is no way for Python to know what you meant to write, so in this case you don't get an error message; you just get the wrong answer."
   ]
  }
 ],
 "metadata": {
  "kernelspec": {
   "display_name": "base",
   "language": "python",
   "name": "python3"
  },
  "language_info": {
   "codemirror_mode": {
    "name": "ipython",
    "version": 3
   },
   "file_extension": ".py",
   "mimetype": "text/x-python",
   "name": "python",
   "nbconvert_exporter": "python",
   "pygments_lexer": "ipython3",
   "version": "3.9.18"
  }
 },
 "nbformat": 4,
 "nbformat_minor": 2
}
