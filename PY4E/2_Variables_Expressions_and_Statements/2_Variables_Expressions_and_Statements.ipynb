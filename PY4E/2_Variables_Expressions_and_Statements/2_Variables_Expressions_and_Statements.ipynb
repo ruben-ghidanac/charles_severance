{
 "cells": [
  {
   "cell_type": "markdown",
   "metadata": {},
   "source": [
    "# 2: Variables, Expressions, and Statements"
   ]
  },
  {
   "cell_type": "markdown",
   "metadata": {},
   "source": [
    "## 2.1: Values and Types"
   ]
  },
  {
   "cell_type": "markdown",
   "metadata": {},
   "source": [
    "A value is one of the basic things a program works with, like a letter or a number. The values we have seen so far are `1`, `2`, and `\"Hello, World!\"`\n",
    "\n",
    "These values belong to different types: `2` is an **integer**, and `\"Hello, World!\"` is a **string**, so called because it contains a \"string\" of letters. You (and the interpreter) can identify strings because they are enclosed in quotation marks.\n",
    "\n",
    "The print statement also works for integers. We use the python command to start the interpreter.\n",
    "\n",
    "```text\n",
    "    >>> print(4)\n",
    "    4\n",
    "```\n",
    "\n",
    "If you are not sure what type a value has, the interpreter can tell you.\n",
    "```text\n",
    "    >>> type('Hello, World!')\n",
    "    <class 'str'>\n",
    "    >>> type(17)\n",
    "    <class 'int'>\n",
    "```\n",
    "\n",
    "Not surprisingly, strings belong to the type `str` and integers belong to the type `int`. Less obviously, numbers with a decimal point belong to a type called `float`, because these numbers are represented in a format called **floating point**.\n",
    "```text\n",
    "    >>> type(3.2)\n",
    "    <class 'float'>\n",
    "```\n",
    "\n",
    "What about values like `\"17\"` and `\"3.2\"`? They look like numbers, but they are in quotation marks like strings.\n",
    "```text\n",
    "    >>> type('17')\n",
    "    <class 'str'>\n",
    "    >>> type('3.2')\n",
    "    <class 'str'>\n",
    "```\n",
    "They're strings.\n",
    "\n",
    "When you type a large integer, you might be tempted to use commas between groups of three digits, as in `1,000,000`. This is not a legal integer in Python, but it is legal:\n",
    "```text\n",
    "    >>> print(1,000,000)\n",
    "    1 0 0\n",
    "```\n",
    "Well, that's not what we expected at all! Python interprets `1,000,000` as a comma-separated sequence of integers, which it prints with spaces between.\n",
    "\n",
    "This is the first example we have seen of a semantic error: the code runs without producing an error message, but it doesn't do the \"right\" thing."
   ]
  }
 ],
 "metadata": {
  "language_info": {
   "name": "python"
  }
 },
 "nbformat": 4,
 "nbformat_minor": 2
}
