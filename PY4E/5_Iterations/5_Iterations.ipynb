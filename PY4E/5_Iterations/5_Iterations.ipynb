{
 "cells": [
  {
   "cell_type": "code",
   "execution_count": 23,
   "metadata": {},
   "outputs": [
    {
     "name": "stdout",
     "output_type": "stream",
     "text": [
      "Enter a number:  1\n"
     ]
    }
   ],
   "source": [
    "user_input = None\n",
    "\n",
    "total = 0\n",
    "count = 0\n",
    "average = 0\n",
    "user_input_list = []\n",
    "\n",
    "try:\n",
    "        while user_input != 'done':\n",
    "\n",
    "            user_input = input(\"Enter a number: \")\n",
    "            print(\"Enter a number: \", user_input)\n",
    "            \n",
    "            int_user_input = int(user_input)\n",
    "            user_input_list = user_input_list + [int_user_input]\n",
    "\n",
    "            for i in user_input_list:\n",
    "                if user_input_list[i] != int:\n",
    "                    print('Invalid input')\n",
    "                else: \n",
    "                    total = total + user_input_list[i]\n",
    "                    count = count + 1\n",
    "                    average = total / count\n",
    "  \n",
    "except:\n",
    "        if user_input == 'done':\n",
    "                print(total, count, average) "
   ]
  },
  {
   "cell_type": "code",
   "execution_count": 36,
   "metadata": {},
   "outputs": [
    {
     "name": "stdout",
     "output_type": "stream",
     "text": [
      "Enter a number:  0\n",
      "Enter a number:  0\n",
      "Enter a number:  4\n",
      "Enter a number:  5\n",
      "Enter a number:  7\n",
      "Enter a number:  qwerty\n",
      "Invalid input\n",
      "Enter a number:  0.0\n",
      "Invalid input\n",
      "Enter a number:  done\n",
      "16 3 5.333333333333333\n"
     ]
    }
   ],
   "source": [
    "\"\"\"\n",
    "This script calculates the total, count, and average of a series of numbers entered by the user.\n",
    "\n",
    "It prompts the user to continuously enter numbers until 'done' is entered. \n",
    "It keeps a running total and count of the numbers entered.\n",
    "After the loop, it calculates the average, avoiding divide-by-zero errors.\n",
    "\n",
    "\"\"\"\n",
    "\n",
    "# Initialize variables to store total, count, and average\n",
    "total = 0\n",
    "count = 0\n",
    "average = 0\n",
    "\n",
    "# Continue prompting the user for input until 'done' is entered\n",
    "while True:\n",
    "    user_input = input(\"Enter a number: \")\n",
    "    print(\"Enter a number: \", user_input)\n",
    "\n",
    "    # Check if user input is 'done' to exit the loop\n",
    "    if user_input == 'done':\n",
    "        break\n",
    "\n",
    "    try:\n",
    "        # Convert user input to an integer and update total and count\n",
    "        number = int(user_input)\n",
    "        total += number\n",
    "        # Increment count only if the number is not zero\n",
    "        if number != 0:\n",
    "            count += 1\n",
    "\n",
    "    except ValueError:\n",
    "        # Handle invalid input (non-integer) gracefully\n",
    "        print('Invalid input')\n",
    "        continue\n",
    "\n",
    "# Calculate average, avoiding division by zero error\n",
    "if count > 0: \n",
    "    average = total / count\n",
    "else:\n",
    "    average = 0  \n",
    "\n",
    "# Print the total, count, and average\n",
    "print(total, count, average)\n"
   ]
  },
  {
   "cell_type": "code",
   "execution_count": 38,
   "metadata": {},
   "outputs": [
    {
     "name": "stdout",
     "output_type": "stream",
     "text": [
      "Enter a number:  -100\n",
      "Enter a number:  hi\n",
      "Invalid input\n",
      "Enter a number:  100\n",
      "Enter a number:  done\n",
      "Min: -100 Max: 100\n"
     ]
    }
   ],
   "source": [
    "\"\"\"\n",
    "Prompts the user to enter numbers repeatedly until 'done' is entered. \n",
    "Keeps track of the min and max values entered and prints them after done.\n",
    "\"\"\"\n",
    "# Initialize variables to store min and max\n",
    "min = 0\n",
    "max = 0\n",
    "the_list = []\n",
    "\n",
    "# Continue prompting the user for input until 'done' is entered\n",
    "while True:\n",
    "    user_input = input(\"Enter a number: \")\n",
    "    print(\"Enter a number: \", user_input)\n",
    "\n",
    "    # Check if user input is 'done' to exit the loop\n",
    "    if user_input == 'done':\n",
    "        break\n",
    "\n",
    "    try:\n",
    "        # Convert user input to an integer and update the list\n",
    "        number = int(user_input)\n",
    "        the_list += [number]\n",
    "\n",
    "    except ValueError:\n",
    "        # Handle invalid input (non-integer) gracefully\n",
    "        print('Invalid input')\n",
    "        continue\n",
    "\n",
    "for i in the_list:\n",
    "    if i < min:\n",
    "        min = i\n",
    "    elif i > max:\n",
    "        max = i\n",
    "\n",
    "print(f'Min: {min}', f'Max: {max}')"
   ]
  },
  {
   "cell_type": "code",
   "execution_count": 42,
   "metadata": {},
   "outputs": [
    {
     "name": "stdout",
     "output_type": "stream",
     "text": [
      "Enter a number:  1\n",
      "Enter a number:  2\n",
      "Enter a number:  done\n",
      "Min: 1 Max: 2\n"
     ]
    }
   ],
   "source": [
    "\"\"\"\n",
    "This script prompts the user to enter numbers repeatedly until 'done' is entered.\n",
    "It keeps track of the minimum and maximum values entered and prints them after 'done'.\n",
    "\"\"\"\n",
    "\n",
    "# Initialize variables to store the minimum and maximum values\n",
    "min_value = None\n",
    "max_value = None\n",
    "the_list = []\n",
    "\n",
    "# Continue prompting the user for input until 'done' is entered\n",
    "while True:\n",
    "    user_input = input(\"Enter a number: \")\n",
    "    print(\"Enter a number: \", user_input)\n",
    "\n",
    "    # Check if user input is 'done' to exit the loop\n",
    "    if user_input == 'done':\n",
    "        break\n",
    "\n",
    "    try:\n",
    "        # Convert user input to an integer and update the list\n",
    "        number = int(user_input)\n",
    "        the_list += [number]\n",
    "\n",
    "    except ValueError:\n",
    "        # Handle invalid input (non-integer) gracefully\n",
    "        print('Invalid input')\n",
    "        continue\n",
    "\n",
    "# Iterate through the list to find the minimum and maximum values\n",
    "for value in the_list:\n",
    "    # If min_value is None or the current value is less than min_value, update min_value\n",
    "    if min_value is None or value < min_value:\n",
    "        min_value = value\n",
    "    # If max_value is None or the current value is greater than max_value, update max_value\n",
    "    if max_value is None or value > max_value:\n",
    "        max_value = value\n",
    "\n",
    "# Print the minimum and maximum values\n",
    "print(f'Min: {min_value}', f'Max: {max_value}')"
   ]
  }
 ],
 "metadata": {
  "kernelspec": {
   "display_name": "base",
   "language": "python",
   "name": "python3"
  },
  "language_info": {
   "codemirror_mode": {
    "name": "ipython",
    "version": 3
   },
   "file_extension": ".py",
   "mimetype": "text/x-python",
   "name": "python",
   "nbconvert_exporter": "python",
   "pygments_lexer": "ipython3",
   "version": "3.9.18"
  }
 },
 "nbformat": 4,
 "nbformat_minor": 2
}
